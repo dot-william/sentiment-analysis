{
 "cells": [
  {
   "cell_type": "markdown",
   "metadata": {},
   "source": [
    "# Sentiment Analysis"
   ]
  },
  {
   "cell_type": "code",
   "execution_count": 1,
   "metadata": {},
   "outputs": [],
   "source": [
    "import pandas as pd\n",
    "import seaborn as sns\n",
    "import matplotlib.pyplot as plt\n"
   ]
  },
  {
   "cell_type": "markdown",
   "metadata": {},
   "source": [
    "## Data Preprocessing"
   ]
  },
  {
   "cell_type": "code",
   "execution_count": 3,
   "metadata": {},
   "outputs": [
    {
     "data": {
      "text/html": [
       "<div>\n",
       "<style scoped>\n",
       "    .dataframe tbody tr th:only-of-type {\n",
       "        vertical-align: middle;\n",
       "    }\n",
       "\n",
       "    .dataframe tbody tr th {\n",
       "        vertical-align: top;\n",
       "    }\n",
       "\n",
       "    .dataframe thead th {\n",
       "        text-align: right;\n",
       "    }\n",
       "</style>\n",
       "<table border=\"1\" class=\"dataframe\">\n",
       "  <thead>\n",
       "    <tr style=\"text-align: right;\">\n",
       "      <th></th>\n",
       "      <th>id</th>\n",
       "      <th>sentiment</th>\n",
       "      <th>corpus</th>\n",
       "    </tr>\n",
       "  </thead>\n",
       "  <tbody>\n",
       "    <tr>\n",
       "      <th>0</th>\n",
       "      <td>260097528899452929</td>\n",
       "      <td>neutral</td>\n",
       "      <td>Won the match #getin . Plus\\u002c tomorrow is ...</td>\n",
       "    </tr>\n",
       "    <tr>\n",
       "      <th>1</th>\n",
       "      <td>263791921753882624</td>\n",
       "      <td>neutral</td>\n",
       "      <td>Some areas of New England could see the first ...</td>\n",
       "    </tr>\n",
       "    <tr>\n",
       "      <th>2</th>\n",
       "      <td>264194578381410304</td>\n",
       "      <td>negative</td>\n",
       "      <td>@francesco_con40 2nd worst QB. DEFINITELY Tony...</td>\n",
       "    </tr>\n",
       "    <tr>\n",
       "      <th>3</th>\n",
       "      <td>264041328420204544</td>\n",
       "      <td>neutral</td>\n",
       "      <td>#Thailand Washington - US President Barack Oba...</td>\n",
       "    </tr>\n",
       "    <tr>\n",
       "      <th>4</th>\n",
       "      <td>263816256640126976</td>\n",
       "      <td>neutral</td>\n",
       "      <td>Did y\\u2019all hear what Tony Romo dressed up ...</td>\n",
       "    </tr>\n",
       "    <tr>\n",
       "      <th>...</th>\n",
       "      <td>...</td>\n",
       "      <td>...</td>\n",
       "      <td>...</td>\n",
       "    </tr>\n",
       "    <tr>\n",
       "      <th>1649</th>\n",
       "      <td>264241571908681728</td>\n",
       "      <td>neutral</td>\n",
       "      <td>#WEB YouTube improves upload process with opti...</td>\n",
       "    </tr>\n",
       "    <tr>\n",
       "      <th>1650</th>\n",
       "      <td>264228980444495875</td>\n",
       "      <td>positive</td>\n",
       "      <td>Gonna change my Tumblr theme. I hope I can fin...</td>\n",
       "    </tr>\n",
       "    <tr>\n",
       "      <th>1651</th>\n",
       "      <td>264210367192915968</td>\n",
       "      <td>neutral</td>\n",
       "      <td>I\\u2019m so jealous of everyone at the Justin ...</td>\n",
       "    </tr>\n",
       "    <tr>\n",
       "      <th>1652</th>\n",
       "      <td>263737249240342528</td>\n",
       "      <td>neutral</td>\n",
       "      <td>Jim Harbaugh\\u002c Alex Smith Drive Giants Wor...</td>\n",
       "    </tr>\n",
       "    <tr>\n",
       "      <th>1653</th>\n",
       "      <td>264096818831433728</td>\n",
       "      <td>neutral</td>\n",
       "      <td>#Trending: Tim Tebow is now dating cave woman ...</td>\n",
       "    </tr>\n",
       "  </tbody>\n",
       "</table>\n",
       "<p>1654 rows × 3 columns</p>\n",
       "</div>"
      ],
      "text/plain": [
       "                      id sentiment  \\\n",
       "0     260097528899452929   neutral   \n",
       "1     263791921753882624   neutral   \n",
       "2     264194578381410304  negative   \n",
       "3     264041328420204544   neutral   \n",
       "4     263816256640126976   neutral   \n",
       "...                  ...       ...   \n",
       "1649  264241571908681728   neutral   \n",
       "1650  264228980444495875  positive   \n",
       "1651  264210367192915968   neutral   \n",
       "1652  263737249240342528   neutral   \n",
       "1653  264096818831433728   neutral   \n",
       "\n",
       "                                                 corpus  \n",
       "0     Won the match #getin . Plus\\u002c tomorrow is ...  \n",
       "1     Some areas of New England could see the first ...  \n",
       "2     @francesco_con40 2nd worst QB. DEFINITELY Tony...  \n",
       "3     #Thailand Washington - US President Barack Oba...  \n",
       "4     Did y\\u2019all hear what Tony Romo dressed up ...  \n",
       "...                                                 ...  \n",
       "1649  #WEB YouTube improves upload process with opti...  \n",
       "1650  Gonna change my Tumblr theme. I hope I can fin...  \n",
       "1651  I\\u2019m so jealous of everyone at the Justin ...  \n",
       "1652  Jim Harbaugh\\u002c Alex Smith Drive Giants Wor...  \n",
       "1653  #Trending: Tim Tebow is now dating cave woman ...  \n",
       "\n",
       "[1654 rows x 3 columns]"
      ]
     },
     "execution_count": 3,
     "metadata": {},
     "output_type": "execute_result"
    }
   ],
   "source": [
    "df = pd.read_csv('datasets/twitter-2013dev-A.txt', delimiter='\\t', names=['id', 'sentiment', 'corpus'])\n",
    "df"
   ]
  },
  {
   "cell_type": "markdown",
   "metadata": {},
   "source": [
    "## Model Selection and Training"
   ]
  }
 ],
 "metadata": {
  "kernelspec": {
   "display_name": "py-acts",
   "language": "python",
   "name": "python3"
  },
  "language_info": {
   "codemirror_mode": {
    "name": "ipython",
    "version": 3
   },
   "file_extension": ".py",
   "mimetype": "text/x-python",
   "name": "python",
   "nbconvert_exporter": "python",
   "pygments_lexer": "ipython3",
   "version": "3.9.13"
  },
  "orig_nbformat": 4
 },
 "nbformat": 4,
 "nbformat_minor": 2
}
