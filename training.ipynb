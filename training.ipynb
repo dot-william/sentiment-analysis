{
 "cells": [
  {
   "cell_type": "markdown",
   "metadata": {},
   "source": [
    "# Sentiment Analysis"
   ]
  },
  {
   "cell_type": "code",
   "execution_count": 1,
   "metadata": {},
   "outputs": [
    {
     "name": "stdout",
     "output_type": "stream",
     "text": [
      "Requirement already satisfied: imblearn in c:\\users\\willi\\desktop\\_77\\_activities\\venvs\\py-acts\\lib\\site-packages (0.0)\n",
      "Requirement already satisfied: imbalanced-learn in c:\\users\\willi\\desktop\\_77\\_activities\\venvs\\py-acts\\lib\\site-packages (from imblearn) (0.11.0)\n",
      "Requirement already satisfied: threadpoolctl>=2.0.0 in c:\\users\\willi\\desktop\\_77\\_activities\\venvs\\py-acts\\lib\\site-packages (from imbalanced-learn->imblearn) (3.2.0)\n",
      "Requirement already satisfied: scipy>=1.5.0 in c:\\users\\willi\\desktop\\_77\\_activities\\venvs\\py-acts\\lib\\site-packages (from imbalanced-learn->imblearn) (1.11.2)\n",
      "Requirement already satisfied: scikit-learn>=1.0.2 in c:\\users\\willi\\desktop\\_77\\_activities\\venvs\\py-acts\\lib\\site-packages (from imbalanced-learn->imblearn) (1.3.0)\n",
      "Requirement already satisfied: numpy>=1.17.3 in c:\\users\\willi\\desktop\\_77\\_activities\\venvs\\py-acts\\lib\\site-packages (from imbalanced-learn->imblearn) (1.25.2)\n",
      "Requirement already satisfied: joblib>=1.1.1 in c:\\users\\willi\\desktop\\_77\\_activities\\venvs\\py-acts\\lib\\site-packages (from imbalanced-learn->imblearn) (1.3.2)\n",
      "Note: you may need to restart the kernel to use updated packages.\n"
     ]
    },
    {
     "name": "stderr",
     "output_type": "stream",
     "text": [
      "WARNING: You are using pip version 22.0.4; however, version 23.2.1 is available.\n",
      "You should consider upgrading via the 'c:\\Users\\willi\\Desktop\\_77\\_Activities\\venvs\\py-acts\\scripts\\python.exe -m pip install --upgrade pip' command.\n"
     ]
    }
   ],
   "source": [
    "%pip install imblearn"
   ]
  },
  {
   "cell_type": "code",
   "execution_count": 2,
   "metadata": {},
   "outputs": [
    {
     "name": "stderr",
     "output_type": "stream",
     "text": [
      "[nltk_data] Downloading package stopwords to\n",
      "[nltk_data]     C:\\Users\\willi\\AppData\\Roaming\\nltk_data...\n",
      "[nltk_data]   Package stopwords is already up-to-date!\n",
      "[nltk_data] Downloading package wordnet to\n",
      "[nltk_data]     C:\\Users\\willi\\AppData\\Roaming\\nltk_data...\n",
      "[nltk_data]   Package wordnet is already up-to-date!\n",
      "[nltk_data] Downloading package averaged_perceptron_tagger to\n",
      "[nltk_data]     C:\\Users\\willi\\AppData\\Roaming\\nltk_data...\n",
      "[nltk_data]   Package averaged_perceptron_tagger is already up-to-\n",
      "[nltk_data]       date!\n",
      "[nltk_data] Downloading package punkt to\n",
      "[nltk_data]     C:\\Users\\willi\\AppData\\Roaming\\nltk_data...\n",
      "[nltk_data]   Package punkt is already up-to-date!\n"
     ]
    }
   ],
   "source": [
    "import pandas as pd\n",
    "import seaborn as sns\n",
    "import matplotlib.pyplot as plt\n",
    "\n",
    "# Regex\n",
    "import re \n",
    "\n",
    "# NLTK\n",
    "import nltk #for text preprocessing\n",
    "from nltk.tokenize import word_tokenize\n",
    "from nltk.corpus import stopwords\n",
    "from nltk.stem import WordNetLemmatizer\n",
    "nltk.download('stopwords')\n",
    "nltk.download(\"wordnet\")\n",
    "nltk.download('averaged_perceptron_tagger')\n",
    "nltk.download('punkt')\n",
    "\n",
    "# Machine learning\n",
    "from sklearn.linear_model import LogisticRegression\n",
    "from sklearn.model_selection import train_test_split\n",
    "from sklearn.metrics import accuracy_score, balanced_accuracy_score, confusion_matrix, classification_report\n",
    "from sklearn.feature_extraction.text import TfidfVectorizer\n",
    "from sklearn.preprocessing import StandardScaler\n",
    "from sklearn.ensemble import RandomForestClassifier\n",
    "from sklearn.tree import DecisionTreeClassifier\n",
    "from sklearn.svm import SVC\n",
    "from sklearn.naive_bayes import  MultinomialNB\n",
    "from joblib import dump, load\n",
    "from imblearn.under_sampling import RandomUnderSampler"
   ]
  },
  {
   "cell_type": "markdown",
   "metadata": {},
   "source": [
    "## Data Preprocessing"
   ]
  },
  {
   "cell_type": "code",
   "execution_count": 3,
   "metadata": {},
   "outputs": [
    {
     "name": "stderr",
     "output_type": "stream",
     "text": [
      "C:\\Users\\willi\\AppData\\Local\\Temp\\ipykernel_15856\\1201518197.py:14: DeprecationWarning: invalid escape sequence '\\ '\n",
      "  df_1['tweet'] = df_1['tweet'].apply(lambda x: x.encode('utf-8').decode('unicode-escape'))\n",
      "C:\\Users\\willi\\AppData\\Local\\Temp\\ipykernel_15856\\1201518197.py:14: DeprecationWarning: invalid escape sequence '\\m'\n",
      "  df_1['tweet'] = df_1['tweet'].apply(lambda x: x.encode('utf-8').decode('unicode-escape'))\n",
      "C:\\Users\\willi\\AppData\\Local\\Temp\\ipykernel_15856\\1201518197.py:15: DeprecationWarning: invalid escape sequence '\\ '\n",
      "  df_2['tweet'] = df_2['tweet'].apply(lambda x: x.encode('utf-8').decode('unicode-escape'))\n",
      "C:\\Users\\willi\\AppData\\Local\\Temp\\ipykernel_15856\\1201518197.py:15: DeprecationWarning: invalid escape sequence '\\i'\n",
      "  df_2['tweet'] = df_2['tweet'].apply(lambda x: x.encode('utf-8').decode('unicode-escape'))\n",
      "C:\\Users\\willi\\AppData\\Local\\Temp\\ipykernel_15856\\1201518197.py:15: DeprecationWarning: invalid escape sequence '\\('\n",
      "  df_2['tweet'] = df_2['tweet'].apply(lambda x: x.encode('utf-8').decode('unicode-escape'))\n",
      "C:\\Users\\willi\\AppData\\Local\\Temp\\ipykernel_15856\\1201518197.py:15: DeprecationWarning: invalid escape sequence '\\m'\n",
      "  df_2['tweet'] = df_2['tweet'].apply(lambda x: x.encode('utf-8').decode('unicode-escape'))\n",
      "C:\\Users\\willi\\AppData\\Local\\Temp\\ipykernel_15856\\1201518197.py:15: DeprecationWarning: invalid escape sequence '\\o'\n",
      "  df_2['tweet'] = df_2['tweet'].apply(lambda x: x.encode('utf-8').decode('unicode-escape'))\n",
      "C:\\Users\\willi\\AppData\\Local\\Temp\\ipykernel_15856\\1201518197.py:16: DeprecationWarning: invalid escape sequence '\\m'\n",
      "  df_3['tweet'] = df_3['tweet'].apply(lambda x: x.encode('utf-8').decode('unicode-escape'))\n",
      "C:\\Users\\willi\\AppData\\Local\\Temp\\ipykernel_15856\\1201518197.py:16: DeprecationWarning: invalid escape sequence '\\_'\n",
      "  df_3['tweet'] = df_3['tweet'].apply(lambda x: x.encode('utf-8').decode('unicode-escape'))\n",
      "C:\\Users\\willi\\AppData\\Local\\Temp\\ipykernel_15856\\1201518197.py:16: DeprecationWarning: invalid escape sequence '\\/'\n",
      "  df_3['tweet'] = df_3['tweet'].apply(lambda x: x.encode('utf-8').decode('unicode-escape'))\n",
      "C:\\Users\\willi\\AppData\\Local\\Temp\\ipykernel_15856\\1201518197.py:16: DeprecationWarning: invalid escape sequence '\\ '\n",
      "  df_3['tweet'] = df_3['tweet'].apply(lambda x: x.encode('utf-8').decode('unicode-escape'))\n",
      "C:\\Users\\willi\\AppData\\Local\\Temp\\ipykernel_15856\\1201518197.py:17: DeprecationWarning: invalid escape sequence '\\('\n",
      "  df_4['tweet'] = df_4['tweet'].apply(lambda x: x.encode('utf-8').decode('unicode-escape'))\n",
      "C:\\Users\\willi\\AppData\\Local\\Temp\\ipykernel_15856\\1201518197.py:18: DeprecationWarning: invalid escape sequence '\\o'\n",
      "  df_5['tweet'] = df_5['tweet'].apply(lambda x: x.encode('utf-8').decode('unicode-escape'))\n",
      "C:\\Users\\willi\\AppData\\Local\\Temp\\ipykernel_15856\\1201518197.py:22: DeprecationWarning: invalid escape sequence '\\m'\n",
      "  df_10['tweet'] = df_10['tweet'].apply(lambda x: x.encode('utf-8').decode('unicode-escape').lower())\n"
     ]
    },
    {
     "data": {
      "text/html": [
       "<div>\n",
       "<style scoped>\n",
       "    .dataframe tbody tr th:only-of-type {\n",
       "        vertical-align: middle;\n",
       "    }\n",
       "\n",
       "    .dataframe tbody tr th {\n",
       "        vertical-align: top;\n",
       "    }\n",
       "\n",
       "    .dataframe thead th {\n",
       "        text-align: right;\n",
       "    }\n",
       "</style>\n",
       "<table border=\"1\" class=\"dataframe\">\n",
       "  <thead>\n",
       "    <tr style=\"text-align: right;\">\n",
       "      <th></th>\n",
       "      <th>id</th>\n",
       "      <th>sentiment</th>\n",
       "      <th>tweet</th>\n",
       "    </tr>\n",
       "  </thead>\n",
       "  <tbody>\n",
       "    <tr>\n",
       "      <th>0</th>\n",
       "      <td>260097528899452929</td>\n",
       "      <td>neutral</td>\n",
       "      <td>Won the match #getin . Plus, tomorrow is a ver...</td>\n",
       "    </tr>\n",
       "    <tr>\n",
       "      <th>1</th>\n",
       "      <td>263791921753882624</td>\n",
       "      <td>neutral</td>\n",
       "      <td>Some areas of New England could see the first ...</td>\n",
       "    </tr>\n",
       "    <tr>\n",
       "      <th>2</th>\n",
       "      <td>264194578381410304</td>\n",
       "      <td>negative</td>\n",
       "      <td>@francesco_con40 2nd worst QB. DEFINITELY Tony...</td>\n",
       "    </tr>\n",
       "    <tr>\n",
       "      <th>3</th>\n",
       "      <td>264041328420204544</td>\n",
       "      <td>neutral</td>\n",
       "      <td>#Thailand Washington - US President Barack Oba...</td>\n",
       "    </tr>\n",
       "    <tr>\n",
       "      <th>4</th>\n",
       "      <td>263816256640126976</td>\n",
       "      <td>neutral</td>\n",
       "      <td>Did y’all hear what Tony Romo dressed up as fo...</td>\n",
       "    </tr>\n",
       "    <tr>\n",
       "      <th>...</th>\n",
       "      <td>...</td>\n",
       "      <td>...</td>\n",
       "      <td>...</td>\n",
       "    </tr>\n",
       "    <tr>\n",
       "      <th>5863</th>\n",
       "      <td>639855845958885376</td>\n",
       "      <td>positive</td>\n",
       "      <td>@racalto_sk ok good to know. punting at metlif...</td>\n",
       "    </tr>\n",
       "    <tr>\n",
       "      <th>5864</th>\n",
       "      <td>639979760735662080</td>\n",
       "      <td>neutral</td>\n",
       "      <td>everyone who sat around me at metlife was so a...</td>\n",
       "    </tr>\n",
       "    <tr>\n",
       "      <th>5865</th>\n",
       "      <td>640196838260363269</td>\n",
       "      <td>neutral</td>\n",
       "      <td>what giants or niners fans would wanna go to t...</td>\n",
       "    </tr>\n",
       "    <tr>\n",
       "      <th>5866</th>\n",
       "      <td>640975710354567168</td>\n",
       "      <td>positive</td>\n",
       "      <td>anybody want a ticket for tomorrow colombia vs...</td>\n",
       "    </tr>\n",
       "    <tr>\n",
       "      <th>5867</th>\n",
       "      <td>641034340068143104</td>\n",
       "      <td>neutral</td>\n",
       "      <td>mendez told me he'd drive me to metlife on sun...</td>\n",
       "    </tr>\n",
       "  </tbody>\n",
       "</table>\n",
       "<p>27451 rows × 3 columns</p>\n",
       "</div>"
      ],
      "text/plain": [
       "                      id sentiment  \\\n",
       "0     260097528899452929   neutral   \n",
       "1     263791921753882624   neutral   \n",
       "2     264194578381410304  negative   \n",
       "3     264041328420204544   neutral   \n",
       "4     263816256640126976   neutral   \n",
       "...                  ...       ...   \n",
       "5863  639855845958885376  positive   \n",
       "5864  639979760735662080   neutral   \n",
       "5865  640196838260363269   neutral   \n",
       "5866  640975710354567168  positive   \n",
       "5867  641034340068143104   neutral   \n",
       "\n",
       "                                                  tweet  \n",
       "0     Won the match #getin . Plus, tomorrow is a ver...  \n",
       "1     Some areas of New England could see the first ...  \n",
       "2     @francesco_con40 2nd worst QB. DEFINITELY Tony...  \n",
       "3     #Thailand Washington - US President Barack Oba...  \n",
       "4     Did y’all hear what Tony Romo dressed up as fo...  \n",
       "...                                                 ...  \n",
       "5863  @racalto_sk ok good to know. punting at metlif...  \n",
       "5864  everyone who sat around me at metlife was so a...  \n",
       "5865  what giants or niners fans would wanna go to t...  \n",
       "5866  anybody want a ticket for tomorrow colombia vs...  \n",
       "5867  mendez told me he'd drive me to metlife on sun...  \n",
       "\n",
       "[27451 rows x 3 columns]"
      ]
     },
     "execution_count": 3,
     "metadata": {},
     "output_type": "execute_result"
    }
   ],
   "source": [
    "# Reading data and concatenating\n",
    "df_1 = pd.read_csv('datasets/twitter-2013dev-A.txt', delimiter='\\t', names=['id', 'sentiment', 'tweet']) \n",
    "df_2 = pd.read_csv('datasets/twitter-2013test-A.txt', delimiter='\\t', names=['id', 'sentiment', 'tweet']) \n",
    "df_3 = pd.read_csv('datasets/twitter-2013train-A.txt', delimiter='\\t', names=['id', 'sentiment', 'tweet']) \n",
    "df_4 = pd.read_csv('datasets/twitter-2014test-A.txt', delimiter='\\t', names=['id', 'sentiment', 'tweet']) \n",
    "df_5 = pd.read_csv('datasets/twitter-2015test-A.txt', delimiter='\\t', names=['id', 'sentiment', 'tweet']) \n",
    "df_6 = pd.read_csv('datasets/twitter-2015train-A.txt', delimiter='\\t', names=['id', 'sentiment', 'tweet']) \n",
    "df_7 = pd.read_csv('datasets/twitter-2016dev-A.txt', delimiter='\\t', names=['id', 'sentiment', 'tweet']) \n",
    "df_8 = pd.read_csv('datasets/twitter-2016devtest-A.txt', delimiter='\\t', names=['id', 'sentiment', 'tweet']) \n",
    "# df_9 = pd.read_csv('datasets/twitter-2016test-A.txt', delimiter='\\t', names=['id', 'sentiment', 'tweet']) \n",
    "df_10 = pd.read_csv('datasets/twitter-2016train-A.txt', delimiter='\\t', names=['id', 'sentiment', 'tweet']) \n",
    "\n",
    "# Decode unicode-escape characters and convert everything to lowercase\n",
    "df_1['tweet'] = df_1['tweet'].apply(lambda x: x.encode('utf-8').decode('unicode-escape'))\n",
    "df_2['tweet'] = df_2['tweet'].apply(lambda x: x.encode('utf-8').decode('unicode-escape'))\n",
    "df_3['tweet'] = df_3['tweet'].apply(lambda x: x.encode('utf-8').decode('unicode-escape'))\n",
    "df_4['tweet'] = df_4['tweet'].apply(lambda x: x.encode('utf-8').decode('unicode-escape'))\n",
    "df_5['tweet'] = df_5['tweet'].apply(lambda x: x.encode('utf-8').decode('unicode-escape'))\n",
    "df_6['tweet'] = df_6['tweet'].apply(lambda x: x.encode('utf-8').decode('unicode-escape'))\n",
    "df_7['tweet'] = df_7['tweet'].apply(lambda x: x.encode('utf-8').decode('unicode-escape'))\n",
    "# df_8['tweet'] = df_8['tweet'].apply(lambda x: x.encode('utf-8').decode('unicode_escape')) # UnicodeDecodeError: 'unicodeescape' codec can't decode byte 0x5c in position 139: \\ at end of string\n",
    "df_10['tweet'] = df_10['tweet'].apply(lambda x: x.encode('utf-8').decode('unicode-escape').lower())\n",
    "\n",
    "# Concatenate dataframes\n",
    "tweets_df = pd.concat([df_1, df_2, df_3, df_4, df_5, df_6, df_7, df_10],axis=0)\n",
    "tweets_df"
   ]
  },
  {
   "cell_type": "code",
   "execution_count": 4,
   "metadata": {},
   "outputs": [
    {
     "data": {
      "text/plain": [
       "array(['neutral', 'negative', 'positive'], dtype=object)"
      ]
     },
     "execution_count": 4,
     "metadata": {},
     "output_type": "execute_result"
    }
   ],
   "source": [
    "# Check if sentiment is correct unique in the dataframe\n",
    "tweets_df['sentiment'].unique()"
   ]
  },
  {
   "cell_type": "code",
   "execution_count": 5,
   "metadata": {},
   "outputs": [
    {
     "name": "stderr",
     "output_type": "stream",
     "text": [
      "c:\\Users\\willi\\Desktop\\_77\\_Activities\\venvs\\py-acts\\lib\\site-packages\\seaborn\\_oldcore.py:1498: FutureWarning: is_categorical_dtype is deprecated and will be removed in a future version. Use isinstance(dtype, CategoricalDtype) instead\n",
      "  if pd.api.types.is_categorical_dtype(vector):\n",
      "c:\\Users\\willi\\Desktop\\_77\\_Activities\\venvs\\py-acts\\lib\\site-packages\\seaborn\\_oldcore.py:1498: FutureWarning: is_categorical_dtype is deprecated and will be removed in a future version. Use isinstance(dtype, CategoricalDtype) instead\n",
      "  if pd.api.types.is_categorical_dtype(vector):\n",
      "c:\\Users\\willi\\Desktop\\_77\\_Activities\\venvs\\py-acts\\lib\\site-packages\\seaborn\\_oldcore.py:1119: FutureWarning: use_inf_as_na option is deprecated and will be removed in a future version. Convert inf values to NaN before operating instead.\n",
      "  with pd.option_context('mode.use_inf_as_na', True):\n"
     ]
    },
    {
     "data": {
      "text/plain": [
       "Text(0.5, 1.0, 'Sentiment Distribution')"
      ]
     },
     "execution_count": 5,
     "metadata": {},
     "output_type": "execute_result"
    },
    {
     "data": {
      "image/png": "[encoded data removed]",
      "text/plain": [
       "<Figure size 640x480 with 1 Axes>"
      ]
     },
     "metadata": {},
     "output_type": "display_data"
    }
   ],
   "source": [
    "# Plot number of sentiments to get an idea of the distribution\n",
    "plt.figure()\n",
    "sns.histplot(data=tweets_df, x=tweets_df['sentiment'])\n",
    "plt.title(\"Sentiment Distribution\")"
   ]
  },
  {
   "cell_type": "markdown",
   "metadata": {},
   "source": [
    "We can see from the data that there is an imbalance in the dataset."
   ]
  },
  {
   "cell_type": "markdown",
   "metadata": {},
   "source": [
    "Before anything else, let us preprocess the dataset. The following will be done to apply preprocessing on the data:\n",
    "1. Unicode escape sequence `\\u` will be decoded.\n",
    "2. Punctuations will be  removed.\n",
    "3. Links will be removed.\n",
    "4. `#` and `@` characters will also be removed from the texts, but the word following it will be retained.\n",
    "5. Numbers will be removed but numbers following letters (e.g. 2nd, 16th) will be retained\n",
    "\n",
    "After cleaning the text, preprocessing, the following steps will be done:\n",
    "1. Words will be tokenized.\n",
    "2. After tokenization, words will be lemmatized\n",
    "3. After lemmatization, stop"
   ]
  },
  {
   "cell_type": "code",
   "execution_count": 6,
   "metadata": {},
   "outputs": [],
   "source": [
    "# def remove_emoji(string):\n",
    "#     emoji_pattern = re.compile(\"[\"\n",
    "#                            u\"\\U0001F600-\\U0001F64F\" # emoticons\n",
    "#                            u\"\\U0001F300-\\U0001F5FF\" # symbols & pictographs\n",
    "#                            u\"\\U0001F680-\\U0001F6FF\" # transport & map symbols\n",
    "#                            u\"\\U0001F1E0-\\U0001F1FF\" # flags (iOS)\n",
    "#                            u\"\\U00002702-\\U000027B0\"\n",
    "#                            u\"\\U000024C2-\\U0001F251\"\n",
    "#                            \"]+\", flags=re.UNICODE)\n",
    "#     return emoji_pattern.sub(r'', string)\n",
    "\n",
    "# remove_emoji(\"Done with the updates! Hurray for me!! Ahehe^_^ Now I can go to sleep. Six loads pa ang bubunuin ko tomorrow...Aja! God bless everyone:)\")"
   ]
  },
  {
   "cell_type": "code",
   "execution_count": 7,
   "metadata": {},
   "outputs": [],
   "source": [
    "def clean_text(text):\n",
    "    \"\"\"\n",
    "    Removes @, #, and punctuation marks from the text.\n",
    "\n",
    "    Parameters:\n",
    "        text (str): tokenized tweet.\n",
    "    Returns:\n",
    "        str: The cleaned tweet text.\n",
    "    \"\"\"\n",
    "    # Convert text to lowercase\n",
    "    text = text.lower()\n",
    "\n",
    "    # Replace @, #, links and non-word characters with a space\n",
    "    pattern = re.compile(r'(http|https)://[^\\s]+|[^\\w\\s@#]|[@#]|\\d+:\\d+|\\d+(?![a-zA-Z])|_')\n",
    "    cleaned_text = pattern.sub(' ', text)\n",
    "\n",
    "    \n",
    "\n",
    "    # Remove extra spaces\n",
    "    cleaned_text = ' '.join(cleaned_text.split())\n",
    "    return cleaned_text\n",
    "\n",
    "def preprocess_text(text):\n",
    "    \"\"\"\n",
    "    Preprocesses the text.\n",
    "\n",
    "    Parameters:\n",
    "        text (str): tokenized tweet.\n",
    "    Returns:\n",
    "        str: The cleaned tweet text.\n",
    "    \"\"\"\n",
    "    # Clean text\n",
    "    cleaned_text = clean_text(text)\n",
    "    \n",
    "    # Tokenize the text\n",
    "    words = word_tokenize(cleaned_text)\n",
    "    filtered_words = []\n",
    "    \n",
    "    # Remove English Stop Words\n",
    "    stop_words = set(stopwords.words('English'))\n",
    "\n",
    "    for word in words:\n",
    "        if word not in stop_words:\n",
    "            filtered_words.append(word)\n",
    "    # print(\"Filtered: \", filtered_words)\n",
    "    \n",
    "    # Lemmatize the text for nouns\n",
    "    lemmatizer = WordNetLemmatizer()\n",
    "    lemmatized_words = []\n",
    "    for word in filtered_words:\n",
    "        lemmatized_word = lemmatizer.lemmatize(word, pos='n')\n",
    "        lemmatized_words.append(lemmatized_word) \n",
    "    # print(\"Lemmatized words:\", lemmatized_words)\n",
    "\n",
    "    # Lemmatize for verbs\n",
    "    final_lemmatized_words = []\n",
    "    for word in lemmatized_words:\n",
    "        lemmatized_word = lemmatizer.lemmatize(word, pos='v')\n",
    "        final_lemmatized_words.append(lemmatized_word)\n",
    "    \n",
    "    processed_text = ' '.join(final_lemmatized_words)\n",
    "    return processed_text\n"
   ]
  },
  {
   "cell_type": "code",
   "execution_count": 8,
   "metadata": {},
   "outputs": [
    {
     "data": {
      "text/plain": [
       "'2nd do update hurray ahehe go sleep six load pa ang bubunuin ko tomorrow aja god bless everyone'"
      ]
     },
     "execution_count": 8,
     "metadata": {},
     "output_type": "execute_result"
    }
   ],
   "source": [
    "# print(set(stopwords.words('English')))\n",
    "# WordNetLemmatizer().lemmatize(\"us\", pos='n')\n",
    "text = \"2nd 2 Done with the updates! Hurray for me!! Ahehe^_^ Now I can go to sleep. Six loads pa ang bubunuin ko tomorrow...Aja! God bless everyone:)\"\n",
    "\n",
    "preprocess_text(text)"
   ]
  },
  {
   "cell_type": "code",
   "execution_count": 9,
   "metadata": {},
   "outputs": [],
   "source": [
    "tweets_df['cleaned_tokenized_text'] = tweets_df['tweet'].apply(preprocess_text)\n",
    "tweets_df.to_csv(\"sample.csv\")"
   ]
  },
  {
   "cell_type": "markdown",
   "metadata": {},
   "source": [
    "## Model Selection and Training"
   ]
  },
  {
   "cell_type": "code",
   "execution_count": 10,
   "metadata": {},
   "outputs": [
    {
     "data": {
      "text/html": [
       "<div>\n",
       "<style scoped>\n",
       "    .dataframe tbody tr th:only-of-type {\n",
       "        vertical-align: middle;\n",
       "    }\n",
       "\n",
       "    .dataframe tbody tr th {\n",
       "        vertical-align: top;\n",
       "    }\n",
       "\n",
       "    .dataframe thead th {\n",
       "        text-align: right;\n",
       "    }\n",
       "</style>\n",
       "<table border=\"1\" class=\"dataframe\">\n",
       "  <thead>\n",
       "    <tr style=\"text-align: right;\">\n",
       "      <th></th>\n",
       "      <th>id</th>\n",
       "      <th>sentiment</th>\n",
       "      <th>tweet</th>\n",
       "      <th>cleaned_tokenized_text</th>\n",
       "    </tr>\n",
       "  </thead>\n",
       "  <tbody>\n",
       "    <tr>\n",
       "      <th>0</th>\n",
       "      <td>260097528899452929</td>\n",
       "      <td>neutral</td>\n",
       "      <td>Won the match #getin . Plus, tomorrow is a ver...</td>\n",
       "      <td>match getin plus tomorrow busy day awareness d...</td>\n",
       "    </tr>\n",
       "    <tr>\n",
       "      <th>1</th>\n",
       "      <td>263791921753882624</td>\n",
       "      <td>neutral</td>\n",
       "      <td>Some areas of New England could see the first ...</td>\n",
       "      <td>area new england could see first flake season ...</td>\n",
       "    </tr>\n",
       "    <tr>\n",
       "      <th>2</th>\n",
       "      <td>264194578381410304</td>\n",
       "      <td>negative</td>\n",
       "      <td>@francesco_con40 2nd worst QB. DEFINITELY Tony...</td>\n",
       "      <td>francesco con 2nd worst qb definitely tony rom...</td>\n",
       "    </tr>\n",
       "    <tr>\n",
       "      <th>3</th>\n",
       "      <td>264041328420204544</td>\n",
       "      <td>neutral</td>\n",
       "      <td>#Thailand Washington - US President Barack Oba...</td>\n",
       "      <td>thailand washington u president barack obama v...</td>\n",
       "    </tr>\n",
       "    <tr>\n",
       "      <th>4</th>\n",
       "      <td>263816256640126976</td>\n",
       "      <td>neutral</td>\n",
       "      <td>Did y’all hear what Tony Romo dressed up as fo...</td>\n",
       "      <td>hear tony romo dress halloween giant quaterbac...</td>\n",
       "    </tr>\n",
       "    <tr>\n",
       "      <th>...</th>\n",
       "      <td>...</td>\n",
       "      <td>...</td>\n",
       "      <td>...</td>\n",
       "      <td>...</td>\n",
       "    </tr>\n",
       "    <tr>\n",
       "      <th>5863</th>\n",
       "      <td>639855845958885376</td>\n",
       "      <td>positive</td>\n",
       "      <td>@racalto_sk ok good to know. punting at metlif...</td>\n",
       "      <td>racalto sk ok good know punt metlife december ...</td>\n",
       "    </tr>\n",
       "    <tr>\n",
       "      <th>5864</th>\n",
       "      <td>639979760735662080</td>\n",
       "      <td>neutral</td>\n",
       "      <td>everyone who sat around me at metlife was so a...</td>\n",
       "      <td>everyone sit around metlife annoy didnt let ru...</td>\n",
       "    </tr>\n",
       "    <tr>\n",
       "      <th>5865</th>\n",
       "      <td>640196838260363269</td>\n",
       "      <td>neutral</td>\n",
       "      <td>what giants or niners fans would wanna go to t...</td>\n",
       "      <td>giant niner fan would wan na go sunday night g...</td>\n",
       "    </tr>\n",
       "    <tr>\n",
       "      <th>5866</th>\n",
       "      <td>640975710354567168</td>\n",
       "      <td>positive</td>\n",
       "      <td>anybody want a ticket for tomorrow colombia vs...</td>\n",
       "      <td>anybody want ticket tomorrow colombia v peru m...</td>\n",
       "    </tr>\n",
       "    <tr>\n",
       "      <th>5867</th>\n",
       "      <td>641034340068143104</td>\n",
       "      <td>neutral</td>\n",
       "      <td>mendez told me he'd drive me to metlife on sun...</td>\n",
       "      <td>mendez tell drive metlife sunday reaction</td>\n",
       "    </tr>\n",
       "  </tbody>\n",
       "</table>\n",
       "<p>27451 rows × 4 columns</p>\n",
       "</div>"
      ],
      "text/plain": [
       "                      id sentiment  \\\n",
       "0     260097528899452929   neutral   \n",
       "1     263791921753882624   neutral   \n",
       "2     264194578381410304  negative   \n",
       "3     264041328420204544   neutral   \n",
       "4     263816256640126976   neutral   \n",
       "...                  ...       ...   \n",
       "5863  639855845958885376  positive   \n",
       "5864  639979760735662080   neutral   \n",
       "5865  640196838260363269   neutral   \n",
       "5866  640975710354567168  positive   \n",
       "5867  641034340068143104   neutral   \n",
       "\n",
       "                                                  tweet  \\\n",
       "0     Won the match #getin . Plus, tomorrow is a ver...   \n",
       "1     Some areas of New England could see the first ...   \n",
       "2     @francesco_con40 2nd worst QB. DEFINITELY Tony...   \n",
       "3     #Thailand Washington - US President Barack Oba...   \n",
       "4     Did y’all hear what Tony Romo dressed up as fo...   \n",
       "...                                                 ...   \n",
       "5863  @racalto_sk ok good to know. punting at metlif...   \n",
       "5864  everyone who sat around me at metlife was so a...   \n",
       "5865  what giants or niners fans would wanna go to t...   \n",
       "5866  anybody want a ticket for tomorrow colombia vs...   \n",
       "5867  mendez told me he'd drive me to metlife on sun...   \n",
       "\n",
       "                                 cleaned_tokenized_text  \n",
       "0     match getin plus tomorrow busy day awareness d...  \n",
       "1     area new england could see first flake season ...  \n",
       "2     francesco con 2nd worst qb definitely tony rom...  \n",
       "3     thailand washington u president barack obama v...  \n",
       "4     hear tony romo dress halloween giant quaterbac...  \n",
       "...                                                 ...  \n",
       "5863  racalto sk ok good know punt metlife december ...  \n",
       "5864  everyone sit around metlife annoy didnt let ru...  \n",
       "5865  giant niner fan would wan na go sunday night g...  \n",
       "5866  anybody want ticket tomorrow colombia v peru m...  \n",
       "5867          mendez tell drive metlife sunday reaction  \n",
       "\n",
       "[27451 rows x 4 columns]"
      ]
     },
     "execution_count": 10,
     "metadata": {},
     "output_type": "execute_result"
    }
   ],
   "source": [
    "tweets_df"
   ]
  },
  {
   "cell_type": "code",
   "execution_count": 11,
   "metadata": {},
   "outputs": [
    {
     "name": "stdout",
     "output_type": "stream",
     "text": [
      "  (0, 228)\t0.7022235374236776\n",
      "  (0, 221)\t0.36293270771046665\n",
      "  (0, 141)\t0.3683113918521068\n",
      "  (0, 905)\t0.14366142135801446\n",
      "  (0, 685)\t0.34826083701245103\n",
      "  (0, 551)\t0.31238511041800887\n",
      "  (1, 923)\t0.35867148382800906\n",
      "  (1, 779)\t0.3665960730510685\n",
      "  (1, 316)\t0.3545303117901899\n",
      "  (1, 781)\t0.27161433818295677\n",
      "  (1, 201)\t0.40833951898841436\n",
      "  (1, 271)\t0.523641621402573\n",
      "  (1, 612)\t0.3107318535244333\n",
      "  (2, 873)\t0.27572395597670174\n",
      "  (2, 432)\t0.36970879274198193\n",
      "  (2, 284)\t0.30489406254149204\n",
      "  (2, 81)\t0.34187420859152695\n",
      "  (2, 795)\t0.3567903610743102\n",
      "  (2, 511)\t0.2102499360620835\n",
      "  (2, 541)\t0.28169489692966865\n",
      "  (2, 233)\t0.3689829166016185\n",
      "  (2, 981)\t0.37428454473779144\n",
      "  (2, 5)\t0.2244094902124457\n",
      "  (3, 454)\t0.44748430053493343\n",
      "  (3, 943)\t0.41379416477465203\n",
      "  :\t:\n",
      "  (27447, 810)\t0.31664537120491304\n",
      "  (27447, 505)\t0.36088919264740715\n",
      "  (27447, 622)\t0.2514506639257998\n",
      "  (27447, 284)\t0.3917728672476277\n",
      "  (27448, 569)\t0.3384280394847202\n",
      "  (27448, 983)\t0.2527149256069787\n",
      "  (27448, 602)\t0.34890711714617145\n",
      "  (27448, 951)\t0.30231057601738054\n",
      "  (27448, 601)\t0.2390008249883187\n",
      "  (27448, 950)\t0.30206410001328243\n",
      "  (27448, 296)\t0.2790605376372994\n",
      "  (27448, 346)\t0.2024867456662104\n",
      "  (27448, 360)\t0.15818560978362167\n",
      "  (27448, 863)\t0.34710376901552853\n",
      "  (27448, 622)\t0.18849685519098466\n",
      "  (27448, 862)\t0.19929421093161453\n",
      "  (27448, 356)\t0.34710376901552853\n",
      "  (27449, 569)\t0.6693236101429628\n",
      "  (27449, 952)\t0.4394253816873389\n",
      "  (27449, 894)\t0.5296665090247555\n",
      "  (27449, 905)\t0.2799368286804293\n",
      "  (27450, 569)\t0.5826303292220577\n",
      "  (27450, 876)\t0.48401359968262286\n",
      "  (27450, 257)\t0.5554770353027493\n",
      "  (27450, 862)\t0.34310056549666973\n"
     ]
    }
   ],
   "source": [
    "vectorizer = TfidfVectorizer(max_features=1000, ngram_range=(1, 2))\n",
    "matrix = vectorizer.fit_transform(tweets_df['cleaned_tokenized_text'])\n",
    "# Save the vectorizer\n",
    "dump(vectorizer, 'tfidf_vectorizer.joblib')\n",
    "print(matrix)"
   ]
  },
  {
   "cell_type": "code",
   "execution_count": 12,
   "metadata": {},
   "outputs": [
    {
     "name": "stdout",
     "output_type": "stream",
     "text": [
      "  (0, 762)\t0.41247242915377164\n",
      "  (0, 837)\t0.3468279342130926\n",
      "  (0, 347)\t0.4520103357310401\n",
      "  (0, 747)\t0.38860910924699094\n",
      "  (0, 894)\t0.33284983730784934\n",
      "  (0, 346)\t0.2516588705072319\n",
      "  (0, 768)\t0.24707355478771478\n",
      "  (0, 480)\t0.28359928225654674\n",
      "  (0, 360)\t0.19659959350755166\n",
      "  (1, 707)\t0.31105445917440744\n",
      "  (1, 220)\t0.36067260184350974\n",
      "  (1, 144)\t0.35637147344263403\n",
      "  (1, 351)\t0.37045601379858\n",
      "  (1, 388)\t0.350036456762762\n",
      "  (1, 96)\t0.35335551180097596\n",
      "  (1, 218)\t0.29244170076112613\n",
      "  (1, 616)\t0.25878319227732427\n",
      "  (1, 702)\t0.330220509253258\n",
      "  (2, 544)\t0.464975979973873\n",
      "  (2, 957)\t0.34899912388972903\n",
      "  (2, 408)\t0.561080486693874\n",
      "  (2, 795)\t0.5892246065999818\n",
      "  (3, 48)\t0.3181533146533444\n",
      "  (3, 926)\t0.38347603844386896\n",
      "  (3, 539)\t0.27473060002061306\n",
      "  :\t:\n",
      "  (19210, 687)\t0.26207792092599086\n",
      "  (19210, 357)\t0.2385012814839845\n",
      "  (19210, 553)\t0.1350817904608109\n",
      "  (19210, 511)\t0.17119993942337566\n",
      "  (19211, 878)\t0.3865283380158787\n",
      "  (19211, 523)\t0.2715553716939509\n",
      "  (19211, 238)\t0.39600058596101395\n",
      "  (19211, 774)\t0.32120549785412933\n",
      "  (19211, 838)\t0.5546402768497309\n",
      "  (19211, 952)\t0.25842857078667625\n",
      "  (19211, 586)\t0.26373398582337904\n",
      "  (19211, 79)\t0.26999501828845085\n",
      "  (19212, 473)\t1.0\n",
      "  (19213, 317)\t0.4977093247078624\n",
      "  (19213, 861)\t0.3449574884174597\n",
      "  (19213, 188)\t0.2875529212507924\n",
      "  (19213, 902)\t0.31304378767127783\n",
      "  (19213, 900)\t0.2834827219533582\n",
      "  (19213, 956)\t0.4977093247078624\n",
      "  (19213, 316)\t0.3528875716384413\n",
      "  (19214, 670)\t0.47915083831484484\n",
      "  (19214, 802)\t0.3529004368295808\n",
      "  (19214, 827)\t0.48815426409848167\n",
      "  (19214, 382)\t0.5616379907253897\n",
      "  (19214, 335)\t0.30355219920812526\n",
      "4950     neutral\n",
      "2092     neutral\n",
      "3131     neutral\n",
      "920      neutral\n",
      "824      neutral\n",
      "          ...   \n",
      "4308     neutral\n",
      "1929    negative\n",
      "4997    negative\n",
      "3598    positive\n",
      "178     positive\n",
      "Name: sentiment, Length: 19215, dtype: object\n"
     ]
    }
   ],
   "source": [
    "features = matrix\n",
    "\n",
    "labels = tweets_df['sentiment']\n",
    "\n",
    "X_train, X_test, y_train, y_test = train_test_split(features, labels, random_state=77, test_size=0.3, shuffle=True)\n",
    "\n",
    "print(X_train)\n",
    "print(y_train)"
   ]
  },
  {
   "cell_type": "code",
   "execution_count": 13,
   "metadata": {},
   "outputs": [
    {
     "name": "stderr",
     "output_type": "stream",
     "text": [
      "c:\\Users\\willi\\Desktop\\_77\\_Activities\\venvs\\py-acts\\lib\\site-packages\\sklearn\\linear_model\\_logistic.py:460: ConvergenceWarning: lbfgs failed to converge (status=1):\n",
      "STOP: TOTAL NO. of ITERATIONS REACHED LIMIT.\n",
      "\n",
      "Increase the number of iterations (max_iter) or scale the data as shown in:\n",
      "    https://scikit-learn.org/stable/modules/preprocessing.html\n",
      "Please also refer to the documentation for alternative solver options:\n",
      "    https://scikit-learn.org/stable/modules/linear_model.html#logistic-regression\n",
      "  n_iter_i = _check_optimize_result(\n"
     ]
    },
    {
     "name": "stdout",
     "output_type": "stream",
     "text": [
      "              precision    recall  f1-score   support\n",
      "\n",
      "    negative       0.59      0.27      0.37      1290\n",
      "     neutral       0.60      0.73      0.66      3527\n",
      "    positive       0.68      0.67      0.67      3419\n",
      "\n",
      "    accuracy                           0.63      8236\n",
      "   macro avg       0.62      0.56      0.57      8236\n",
      "weighted avg       0.63      0.63      0.62      8236\n",
      "\n"
     ]
    }
   ],
   "source": [
    "lr_model = LogisticRegression()\n",
    "lr_model.fit(X_train, y_train)\n",
    "\n",
    "predictions = lr_model.predict(X_test)\n",
    "\n",
    "print(classification_report(y_test, predictions))"
   ]
  },
  {
   "cell_type": "markdown",
   "metadata": {},
   "source": [
    "The performance is inadequate, therefore let's try to use a random under sampler."
   ]
  },
  {
   "cell_type": "code",
   "execution_count": 14,
   "metadata": {},
   "outputs": [
    {
     "data": {
      "text/plain": [
       "sentiment\n",
       "positive    11726\n",
       "neutral     11494\n",
       "negative     4231\n",
       "Name: count, dtype: int64"
      ]
     },
     "execution_count": 14,
     "metadata": {},
     "output_type": "execute_result"
    }
   ],
   "source": [
    "labels.value_counts()"
   ]
  },
  {
   "cell_type": "code",
   "execution_count": 15,
   "metadata": {},
   "outputs": [
    {
     "name": "stdout",
     "output_type": "stream",
     "text": [
      "sentiment\n",
      "negative    4231\n",
      "neutral     4231\n",
      "positive    4231\n",
      "Name: count, dtype: int64\n",
      "              precision    recall  f1-score   support\n",
      "\n",
      "    negative       0.59      0.62      0.60      1250\n",
      "     neutral       0.56      0.57      0.56      1322\n",
      "    positive       0.63      0.59      0.61      1236\n",
      "\n",
      "    accuracy                           0.59      3808\n",
      "   macro avg       0.59      0.59      0.59      3808\n",
      "weighted avg       0.59      0.59      0.59      3808\n",
      "\n"
     ]
    },
    {
     "name": "stderr",
     "output_type": "stream",
     "text": [
      "c:\\Users\\willi\\Desktop\\_77\\_Activities\\venvs\\py-acts\\lib\\site-packages\\sklearn\\linear_model\\_logistic.py:460: ConvergenceWarning: lbfgs failed to converge (status=1):\n",
      "STOP: TOTAL NO. of ITERATIONS REACHED LIMIT.\n",
      "\n",
      "Increase the number of iterations (max_iter) or scale the data as shown in:\n",
      "    https://scikit-learn.org/stable/modules/preprocessing.html\n",
      "Please also refer to the documentation for alternative solver options:\n",
      "    https://scikit-learn.org/stable/modules/linear_model.html#logistic-regression\n",
      "  n_iter_i = _check_optimize_result(\n"
     ]
    }
   ],
   "source": [
    "# Random Undersampler\n",
    "rus = RandomUnderSampler(random_state=0)\n",
    "\n",
    "X_res, y_res = rus.fit_resample(features, labels)\n",
    "\n",
    "print(y_res.value_counts())\n",
    "X_train, X_test, y_train, y_test = train_test_split(X_res, y_res, random_state=77, test_size=0.3, shuffle=True)\n",
    "\n",
    "lr_model = LogisticRegression()\n",
    "lr_model.fit(X_train, y_train)\n",
    "\n",
    "predictions = lr_model.predict(X_test)\n",
    "\n",
    "print(classification_report(y_test, predictions))"
   ]
  },
  {
   "cell_type": "markdown",
   "metadata": {},
   "source": [
    "Since the other metrics have improved after balancing the dataset, let us try using other models"
   ]
  },
  {
   "cell_type": "code",
   "execution_count": 16,
   "metadata": {},
   "outputs": [
    {
     "name": "stdout",
     "output_type": "stream",
     "text": [
      "sentiment\n",
      "positive    2995\n",
      "negative    2981\n",
      "neutral     2909\n",
      "Name: count, dtype: int64\n",
      "SVM               precision    recall  f1-score   support\n",
      "\n",
      "    negative       0.58      0.63      0.60      1250\n",
      "     neutral       0.55      0.57      0.56      1322\n",
      "    positive       0.65      0.57      0.61      1236\n",
      "\n",
      "    accuracy                           0.59      3808\n",
      "   macro avg       0.59      0.59      0.59      3808\n",
      "weighted avg       0.59      0.59      0.59      3808\n",
      "\n",
      "\n",
      "\n",
      "Decision Trees               precision    recall  f1-score   support\n",
      "\n",
      "    negative       0.50      0.54      0.52      1250\n",
      "     neutral       0.50      0.45      0.47      1322\n",
      "    positive       0.55      0.55      0.55      1236\n",
      "\n",
      "    accuracy                           0.51      3808\n",
      "   macro avg       0.51      0.51      0.51      3808\n",
      "weighted avg       0.51      0.51      0.51      3808\n",
      "\n",
      "\n",
      "\n",
      "Random Forest               precision    recall  f1-score   support\n",
      "\n",
      "    negative       0.56      0.60      0.58      1250\n",
      "     neutral       0.53      0.55      0.54      1322\n",
      "    positive       0.66      0.58      0.62      1236\n",
      "\n",
      "    accuracy                           0.58      3808\n",
      "   macro avg       0.58      0.58      0.58      3808\n",
      "weighted avg       0.58      0.58      0.58      3808\n",
      "\n",
      "\n",
      "\n",
      "Naive Bayes               precision    recall  f1-score   support\n",
      "\n",
      "    negative       0.59      0.64      0.61      1250\n",
      "     neutral       0.55      0.52      0.54      1322\n",
      "    positive       0.60      0.59      0.59      1236\n",
      "\n",
      "    accuracy                           0.58      3808\n",
      "   macro avg       0.58      0.58      0.58      3808\n",
      "weighted avg       0.58      0.58      0.58      3808\n",
      "\n",
      "\n",
      "\n"
     ]
    }
   ],
   "source": [
    "# Initialize Models\n",
    "\n",
    "svm = SVC(random_state=77, kernel='linear', probability=True)\n",
    "dt = DecisionTreeClassifier(random_state=77)\n",
    "rf = RandomForestClassifier(random_state=77)\n",
    "nb = MultinomialNB()\n",
    "models = {'SVM': svm, 'Decision Trees': dt,\"Random Forest\": rf, \"Naive Bayes\": nb}\n",
    "trained_models = {}\n",
    "\n",
    "print(y_train.value_counts())\n",
    "\n",
    "for name, model in models.items():\n",
    "    model.fit(X_train, y_train)\n",
    "    prediction = model.predict(X_test)\n",
    "    print(f\"{name}\", classification_report(y_test, prediction))\n",
    "    print('\\n')\n",
    "    # Save the model\n",
    "    dump(model, f\"{name}_model.joblib\")\n"
   ]
  },
  {
   "cell_type": "markdown",
   "metadata": {},
   "source": [
    "The following are the saved result\n",
    "```\n",
    "sentiment\n",
    "positive    2995\n",
    "negative    2981\n",
    "neutral     2909\n",
    "Name: count, dtype: int64\n",
    "SVM               precision    recall  f1-score   support\n",
    "\n",
    "    negative       0.59      0.64      0.61      1250\n",
    "     neutral       0.55      0.58      0.56      1322\n",
    "    positive       0.67      0.57      0.62      1236\n",
    "\n",
    "    accuracy                           0.60      3808\n",
    "   macro avg       0.60      0.60      0.60      3808\n",
    "weighted avg       0.60      0.60      0.60      3808\n",
    "\n",
    "\n",
    "\n",
    "Decision Trees               precision    recall  f1-score   support\n",
    "\n",
    "    negative       0.49      0.53      0.51      1250\n",
    "     neutral       0.50      0.46      0.48      1322\n",
    "    positive       0.55      0.54      0.54      1236\n",
    "\n",
    "    accuracy                           0.51      3808\n",
    "   macro avg       0.51      0.51      0.51      3808\n",
    "weighted avg       0.51      0.51      0.51      3808\n",
    "\n",
    "\n",
    "\n",
    "Random Forest               precision    recall  f1-score   support\n",
    "\n",
    "    negative       0.56      0.61      0.58      1250\n",
    "     neutral       0.54      0.56      0.55      1322\n",
    "    positive       0.66      0.58      0.62      1236\n",
    "\n",
    "    accuracy                           0.58      3808\n",
    "   macro avg       0.59      0.58      0.58      3808\n",
    "weighted avg       0.59      0.58      0.58      3808\n",
    "\n",
    "\n",
    "\n",
    "Naive Bayes               precision    recall  f1-score   support\n",
    "\n",
    "    negative       0.59      0.64      0.62      1250\n",
    "     neutral       0.55      0.51      0.53      1322\n",
    "    positive       0.60      0.59      0.60      1236\n",
    "\n",
    "    accuracy                           0.58      3808\n",
    "   macro avg       0.58      0.58      0.58      3808\n",
    "weighted avg       0.58      0.58      0.58      3808\n",
    "\n",
    "\n",
    "```"
   ]
  },
  {
   "cell_type": "code",
   "execution_count": 18,
   "metadata": {},
   "outputs": [
    {
     "name": "stdout",
     "output_type": "stream",
     "text": [
      "Predicted Label: ['positive']\n",
      "Probability Estimates: [[0.02152308 0.01668987 0.96178705]]\n"
     ]
    }
   ],
   "source": [
    "loaded_model = load('SVM_model.joblib')\n",
    "vectorizer = load('tfidf_vectorizer.joblib')\n",
    "user_input = \"I am not happy\"\n",
    "\n",
    "cleaned_input = preprocess_text(user_input)\n",
    "user_input_tfidf = vectorizer.transform([cleaned_input])\n",
    "\n",
    "predicted_label = loaded_model.predict(user_input_tfidf)\n",
    "\n",
    "probability_estimates = loaded_model.predict_proba(user_input_tfidf)\n",
    "\n",
    "print(\"Predicted Label:\", predicted_label)\n",
    "print(\"Probability Estimates:\", probability_estimates)\n"
   ]
  }
 ],
 "metadata": {
  "kernelspec": {
   "display_name": "py-acts",
   "language": "python",
   "name": "python3"
  },
  "language_info": {
   "codemirror_mode": {
    "name": "ipython",
    "version": 3
   },
   "file_extension": ".py",
   "mimetype": "text/x-python",
   "name": "python",
   "nbconvert_exporter": "python",
   "pygments_lexer": "ipython3",
   "version": "3.9.13"
  },
  "orig_nbformat": 4
 },
 "nbformat": 4,
 "nbformat_minor": 2
}
