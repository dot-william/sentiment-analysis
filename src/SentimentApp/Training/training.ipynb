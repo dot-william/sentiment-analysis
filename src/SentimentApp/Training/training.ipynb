{
 "cells": [
  {
   "cell_type": "markdown",
   "metadata": {},
   "source": [
    "# Sentiment Analysis"
   ]
  },
  {
   "cell_type": "code",
   "execution_count": 3,
   "metadata": {},
   "outputs": [],
   "source": [
    "import pandas as pd\n",
    "import seaborn as sns\n",
    "import matplotlib.pyplot as plt\n",
    "\n",
    "# Regex\n",
    "import re \n",
    "\n",
    "# NLTK\n",
    "import nltk #for text preprocessing\n",
    "from nltk.tokenize import word_tokenize\n",
    "from nltk.corpus import stopwords\n",
    "from nltk.stem import WordNetLemmatizer\n",
    "# nltk.download('stopwords')\n",
    "# nltk.download(\"wordnet\")\n",
    "# nltk.download('averaged_perceptron_tagger')\n",
    "# nltk.download('punkt')\n",
    "\n",
    "# Machine learning\n",
    "from sklearn.linear_model import LogisticRegression\n",
    "from sklearn.model_selection import train_test_split\n",
    "from sklearn.metrics import accuracy_score, balanced_accuracy_score, confusion_matrix, classification_report\n",
    "from sklearn.feature_extraction.text import TfidfVectorizer\n",
    "from sklearn.preprocessing import StandardScaler\n",
    "from sklearn.ensemble import RandomForestClassifier\n",
    "from sklearn.tree import DecisionTreeClassifier\n",
    "from sklearn.svm import SVC\n",
    "from sklearn.naive_bayes import  MultinomialNB\n",
    "from joblib import dump, load\n",
    "from imblearn.under_sampling import RandomUnderSampler\n",
    "from sklearn.model_selection import GridSearchCV\n"
   ]
  },
  {
   "cell_type": "markdown",
   "metadata": {},
   "source": [
    "## Functions to be used"
   ]
  },
  {
   "cell_type": "code",
   "execution_count": 33,
   "metadata": {},
   "outputs": [],
   "source": [
    "def txt_to_df(file_path):\n",
    "    \"\"\"\n",
    "    This function converts the text files to dataframe.\n",
    "    Parameters:\n",
    "        file_path (str): Path of the dataset.\n",
    "    Returns:\n",
    "        df: Pandas dataframe.\n",
    "    \"\"\"\n",
    "    # Initialize empty lists to hold the columns\n",
    "    tweet_ids = []\n",
    "    sentiments = []\n",
    "    tweet_texts = []\n",
    "\n",
    "    # Read the file line by line and split by tabs to populate the lists\n",
    "    with open(file_path, 'r', encoding='unicode-escape') as file:\n",
    "        for line in file:\n",
    "            parts = line.strip().split('\\t')\n",
    "            if len(parts) == 3:  # Only consider lines with all three components\n",
    "                tweet_ids.append(parts[0])\n",
    "                sentiments.append(parts[1])\n",
    "                tweet_texts.append(parts[2])\n",
    "\n",
    "    # Create the DataFrame using the populated lists\n",
    "    df = pd.DataFrame({\n",
    "        'id': tweet_ids,\n",
    "        'sentiment': sentiments,\n",
    "        'tweet': tweet_texts\n",
    "    })\n",
    "\n",
    "    return df\n"
   ]
  },
  {
   "cell_type": "markdown",
   "metadata": {},
   "source": [
    "# Experiments done\n",
    "- Changed preprocessing method\n",
    "    - (`preprocess_v1`) Did not remove following words after @ and #\n",
    "    - (`preprocess_v2`) Removed following words after @ and #\n",
    "    - (`preprocess_v3`) Used spaCy\n",
    "    - Compare performance of what I made vs perfomance of spaCy\n",
    "- Compared performance between different models\n",
    "- Hyperparameter tuning: GridSearch CV\n"
   ]
  },
  {
   "cell_type": "code",
   "execution_count": 4,
   "metadata": {},
   "outputs": [],
   "source": [
    "# Reading data and concatenating\n",
    "df_1 = txt_to_df('datasets/twitter-2013dev-A.txt') \n",
    "df_2 = txt_to_df('datasets/twitter-2013test-A.txt') \n",
    "df_3 = txt_to_df('datasets/twitter-2013train-A.txt') \n",
    "df_4 = txt_to_df('datasets/twitter-2014test-A.txt') \n",
    "df_5 = txt_to_df('datasets/twitter-2015test-A.txt') \n",
    "df_6 = txt_to_df('datasets/twitter-2015train-A.txt') \n",
    "df_7 = txt_to_df('datasets/twitter-2016dev-A.txt') \n",
    "df_8 = txt_to_df('datasets/twitter-2016devtest-A.txt') \n",
    "df_9 = txt_to_df('datasets/twitter-2016test-A.txt') \n",
    "df_10 = txt_to_df('datasets/twitter-2016train-A.txt') "
   ]
  },
  {
   "cell_type": "code",
   "execution_count": 5,
   "metadata": {},
   "outputs": [
    {
     "data": {
      "text/html": [
       "<div>\n",
       "<style scoped>\n",
       "    .dataframe tbody tr th:only-of-type {\n",
       "        vertical-align: middle;\n",
       "    }\n",
       "\n",
       "    .dataframe tbody tr th {\n",
       "        vertical-align: top;\n",
       "    }\n",
       "\n",
       "    .dataframe thead th {\n",
       "        text-align: right;\n",
       "    }\n",
       "</style>\n",
       "<table border=\"1\" class=\"dataframe\">\n",
       "  <thead>\n",
       "    <tr style=\"text-align: right;\">\n",
       "      <th></th>\n",
       "      <th>id</th>\n",
       "      <th>sentiment</th>\n",
       "      <th>tweet</th>\n",
       "    </tr>\n",
       "  </thead>\n",
       "  <tbody>\n",
       "    <tr>\n",
       "      <th>0</th>\n",
       "      <td>260097528899452929</td>\n",
       "      <td>neutral</td>\n",
       "      <td>Won the match #getin . Plus, tomorrow is a ver...</td>\n",
       "    </tr>\n",
       "    <tr>\n",
       "      <th>1</th>\n",
       "      <td>263791921753882624</td>\n",
       "      <td>neutral</td>\n",
       "      <td>Some areas of New England could see the first ...</td>\n",
       "    </tr>\n",
       "    <tr>\n",
       "      <th>2</th>\n",
       "      <td>264194578381410304</td>\n",
       "      <td>negative</td>\n",
       "      <td>@francesco_con40 2nd worst QB. DEFINITELY Tony...</td>\n",
       "    </tr>\n",
       "    <tr>\n",
       "      <th>3</th>\n",
       "      <td>264041328420204544</td>\n",
       "      <td>neutral</td>\n",
       "      <td>#Thailand Washington - US President Barack Oba...</td>\n",
       "    </tr>\n",
       "    <tr>\n",
       "      <th>4</th>\n",
       "      <td>263816256640126976</td>\n",
       "      <td>neutral</td>\n",
       "      <td>Did y’all hear what Tony Romo dressed up as fo...</td>\n",
       "    </tr>\n",
       "    <tr>\n",
       "      <th>...</th>\n",
       "      <td>...</td>\n",
       "      <td>...</td>\n",
       "      <td>...</td>\n",
       "    </tr>\n",
       "    <tr>\n",
       "      <th>5995</th>\n",
       "      <td>639855845958885376</td>\n",
       "      <td>positive</td>\n",
       "      <td>@Racalto_SK ok good to know. Punting at MetLif...</td>\n",
       "    </tr>\n",
       "    <tr>\n",
       "      <th>5996</th>\n",
       "      <td>639979760735662080</td>\n",
       "      <td>neutral</td>\n",
       "      <td>everyone who sat around me at metlife was so a...</td>\n",
       "    </tr>\n",
       "    <tr>\n",
       "      <th>5997</th>\n",
       "      <td>640196838260363269</td>\n",
       "      <td>neutral</td>\n",
       "      <td>what giants or niners fans would wanna go to t...</td>\n",
       "    </tr>\n",
       "    <tr>\n",
       "      <th>5998</th>\n",
       "      <td>640975710354567168</td>\n",
       "      <td>positive</td>\n",
       "      <td>Anybody want a ticket for tomorrow Colombia vs...</td>\n",
       "    </tr>\n",
       "    <tr>\n",
       "      <th>5999</th>\n",
       "      <td>641034340068143104</td>\n",
       "      <td>neutral</td>\n",
       "      <td>Mendez told me he'd drive me to MetLife on Sun...</td>\n",
       "    </tr>\n",
       "  </tbody>\n",
       "</table>\n",
       "<p>50238 rows × 3 columns</p>\n",
       "</div>"
      ],
      "text/plain": [
       "                      id sentiment  \\\n",
       "0     260097528899452929   neutral   \n",
       "1     263791921753882624   neutral   \n",
       "2     264194578381410304  negative   \n",
       "3     264041328420204544   neutral   \n",
       "4     263816256640126976   neutral   \n",
       "...                  ...       ...   \n",
       "5995  639855845958885376  positive   \n",
       "5996  639979760735662080   neutral   \n",
       "5997  640196838260363269   neutral   \n",
       "5998  640975710354567168  positive   \n",
       "5999  641034340068143104   neutral   \n",
       "\n",
       "                                                  tweet  \n",
       "0     Won the match #getin . Plus, tomorrow is a ver...  \n",
       "1     Some areas of New England could see the first ...  \n",
       "2     @francesco_con40 2nd worst QB. DEFINITELY Tony...  \n",
       "3     #Thailand Washington - US President Barack Oba...  \n",
       "4     Did y’all hear what Tony Romo dressed up as fo...  \n",
       "...                                                 ...  \n",
       "5995  @Racalto_SK ok good to know. Punting at MetLif...  \n",
       "5996  everyone who sat around me at metlife was so a...  \n",
       "5997  what giants or niners fans would wanna go to t...  \n",
       "5998  Anybody want a ticket for tomorrow Colombia vs...  \n",
       "5999  Mendez told me he'd drive me to MetLife on Sun...  \n",
       "\n",
       "[50238 rows x 3 columns]"
      ]
     },
     "execution_count": 5,
     "metadata": {},
     "output_type": "execute_result"
    }
   ],
   "source": [
    "# Concatenate dataframes\n",
    "tweets_df = pd.concat([df_1, df_2, df_3, df_4, df_5, df_6, df_7, df_8, df_9, df_10],axis=0)\n",
    "tweets_df"
   ]
  },
  {
   "cell_type": "code",
   "execution_count": 6,
   "metadata": {},
   "outputs": [
    {
     "name": "stdout",
     "output_type": "stream",
     "text": [
      "True\n"
     ]
    }
   ],
   "source": [
    "# Checks for duplicate rows\n",
    "print(tweets_df.duplicated().values.any())"
   ]
  },
  {
   "cell_type": "code",
   "execution_count": 7,
   "metadata": {},
   "outputs": [],
   "source": [
    "# Remove duplicate rows\n",
    "tweets_df = tweets_df.drop_duplicates()"
   ]
  },
  {
   "cell_type": "code",
   "execution_count": 8,
   "metadata": {},
   "outputs": [
    {
     "name": "stdout",
     "output_type": "stream",
     "text": [
      "False\n"
     ]
    },
    {
     "data": {
      "text/html": [
       "<div>\n",
       "<style scoped>\n",
       "    .dataframe tbody tr th:only-of-type {\n",
       "        vertical-align: middle;\n",
       "    }\n",
       "\n",
       "    .dataframe tbody tr th {\n",
       "        vertical-align: top;\n",
       "    }\n",
       "\n",
       "    .dataframe thead th {\n",
       "        text-align: right;\n",
       "    }\n",
       "</style>\n",
       "<table border=\"1\" class=\"dataframe\">\n",
       "  <thead>\n",
       "    <tr style=\"text-align: right;\">\n",
       "      <th></th>\n",
       "      <th>id</th>\n",
       "      <th>sentiment</th>\n",
       "      <th>tweet</th>\n",
       "    </tr>\n",
       "  </thead>\n",
       "  <tbody>\n",
       "    <tr>\n",
       "      <th>0</th>\n",
       "      <td>260097528899452929</td>\n",
       "      <td>neutral</td>\n",
       "      <td>Won the match #getin . Plus, tomorrow is a ver...</td>\n",
       "    </tr>\n",
       "    <tr>\n",
       "      <th>1</th>\n",
       "      <td>263791921753882624</td>\n",
       "      <td>neutral</td>\n",
       "      <td>Some areas of New England could see the first ...</td>\n",
       "    </tr>\n",
       "    <tr>\n",
       "      <th>2</th>\n",
       "      <td>264194578381410304</td>\n",
       "      <td>negative</td>\n",
       "      <td>@francesco_con40 2nd worst QB. DEFINITELY Tony...</td>\n",
       "    </tr>\n",
       "    <tr>\n",
       "      <th>3</th>\n",
       "      <td>264041328420204544</td>\n",
       "      <td>neutral</td>\n",
       "      <td>#Thailand Washington - US President Barack Oba...</td>\n",
       "    </tr>\n",
       "    <tr>\n",
       "      <th>4</th>\n",
       "      <td>263816256640126976</td>\n",
       "      <td>neutral</td>\n",
       "      <td>Did y’all hear what Tony Romo dressed up as fo...</td>\n",
       "    </tr>\n",
       "    <tr>\n",
       "      <th>...</th>\n",
       "      <td>...</td>\n",
       "      <td>...</td>\n",
       "      <td>...</td>\n",
       "    </tr>\n",
       "    <tr>\n",
       "      <th>5995</th>\n",
       "      <td>639855845958885376</td>\n",
       "      <td>positive</td>\n",
       "      <td>@Racalto_SK ok good to know. Punting at MetLif...</td>\n",
       "    </tr>\n",
       "    <tr>\n",
       "      <th>5996</th>\n",
       "      <td>639979760735662080</td>\n",
       "      <td>neutral</td>\n",
       "      <td>everyone who sat around me at metlife was so a...</td>\n",
       "    </tr>\n",
       "    <tr>\n",
       "      <th>5997</th>\n",
       "      <td>640196838260363269</td>\n",
       "      <td>neutral</td>\n",
       "      <td>what giants or niners fans would wanna go to t...</td>\n",
       "    </tr>\n",
       "    <tr>\n",
       "      <th>5998</th>\n",
       "      <td>640975710354567168</td>\n",
       "      <td>positive</td>\n",
       "      <td>Anybody want a ticket for tomorrow Colombia vs...</td>\n",
       "    </tr>\n",
       "    <tr>\n",
       "      <th>5999</th>\n",
       "      <td>641034340068143104</td>\n",
       "      <td>neutral</td>\n",
       "      <td>Mendez told me he'd drive me to MetLife on Sun...</td>\n",
       "    </tr>\n",
       "  </tbody>\n",
       "</table>\n",
       "<p>49593 rows × 3 columns</p>\n",
       "</div>"
      ],
      "text/plain": [
       "                      id sentiment  \\\n",
       "0     260097528899452929   neutral   \n",
       "1     263791921753882624   neutral   \n",
       "2     264194578381410304  negative   \n",
       "3     264041328420204544   neutral   \n",
       "4     263816256640126976   neutral   \n",
       "...                  ...       ...   \n",
       "5995  639855845958885376  positive   \n",
       "5996  639979760735662080   neutral   \n",
       "5997  640196838260363269   neutral   \n",
       "5998  640975710354567168  positive   \n",
       "5999  641034340068143104   neutral   \n",
       "\n",
       "                                                  tweet  \n",
       "0     Won the match #getin . Plus, tomorrow is a ver...  \n",
       "1     Some areas of New England could see the first ...  \n",
       "2     @francesco_con40 2nd worst QB. DEFINITELY Tony...  \n",
       "3     #Thailand Washington - US President Barack Oba...  \n",
       "4     Did y’all hear what Tony Romo dressed up as fo...  \n",
       "...                                                 ...  \n",
       "5995  @Racalto_SK ok good to know. Punting at MetLif...  \n",
       "5996  everyone who sat around me at metlife was so a...  \n",
       "5997  what giants or niners fans would wanna go to t...  \n",
       "5998  Anybody want a ticket for tomorrow Colombia vs...  \n",
       "5999  Mendez told me he'd drive me to MetLife on Sun...  \n",
       "\n",
       "[49593 rows x 3 columns]"
      ]
     },
     "execution_count": 8,
     "metadata": {},
     "output_type": "execute_result"
    }
   ],
   "source": [
    "# Check for duplicate rows\n",
    "print(tweets_df.duplicated().values.any())\n",
    "tweets_df"
   ]
  },
  {
   "cell_type": "code",
   "execution_count": 9,
   "metadata": {},
   "outputs": [
    {
     "data": {
      "text/plain": [
       "array(['neutral', 'negative', 'positive'], dtype=object)"
      ]
     },
     "execution_count": 9,
     "metadata": {},
     "output_type": "execute_result"
    }
   ],
   "source": [
    "# Check if sentiment is correct unique in the dataframe\n",
    "tweets_df['sentiment'].unique()"
   ]
  },
  {
   "cell_type": "code",
   "execution_count": 10,
   "metadata": {},
   "outputs": [
    {
     "data": {
      "text/plain": [
       "Text(0.5, 1.0, 'Sentiment Distribution')"
      ]
     },
     "execution_count": 10,
     "metadata": {},
     "output_type": "execute_result"
    },
    {
     "data": {
      "image/png": "[encoded data removed]",
      "text/plain": [
       "<Figure size 640x480 with 1 Axes>"
      ]
     },
     "metadata": {},
     "output_type": "display_data"
    }
   ],
   "source": [
    "# Plot number of sentiments to get an idea of the distribution\n",
    "plt.figure()\n",
    "sns.histplot(data=tweets_df, x=tweets_df['sentiment'])\n",
    "plt.title(\"Sentiment Distribution\")"
   ]
  },
  {
   "cell_type": "markdown",
   "metadata": {},
   "source": [
    "We can see from the data that there is an imbalance in the dataset."
   ]
  },
  {
   "cell_type": "markdown",
   "metadata": {},
   "source": []
  },
  {
   "cell_type": "markdown",
   "metadata": {},
   "source": [
    "Before anything else, let us preprocess the dataset. Three types of preprocessing techniques will be applied The following will be done to apply preprocessing on the data:\n",
    "1. Unicode escape sequence `\\u` will be decoded.\n",
    "2. Punctuations will be  removed.\n",
    "3. Links will be removed.\n",
    "4. `#` and `@` characters will also be removed from the texts, but the word following it will be retained.\n",
    "5. Numbers will be removed but numbers following letters (e.g. 2nd, 16th) will be retained\n",
    "\n",
    "After cleaning the text, preprocessing, the following steps will be done:\n",
    "1. Words will be tokenized.\n",
    "2. After tokenization, words will be lemmatized\n",
    "3. After lemmatization, stop"
   ]
  },
  {
   "cell_type": "code",
   "execution_count": 1,
   "metadata": {},
   "outputs": [
    {
     "ename": "NameError",
     "evalue": "name 'tweets_df' is not defined",
     "output_type": "error",
     "traceback": [
      "\u001b[1;31m---------------------------------------------------------------------------\u001b[0m",
      "\u001b[1;31mNameError\u001b[0m                                 Traceback (most recent call last)",
      "\u001b[1;32mc:\\Users\\WDIMACULANGAN\\Desktop\\Activity\\sentiment-analysis\\src\\SentimentApp\\Training\\training.ipynb Cell 16\u001b[0m line \u001b[0;36m2\n\u001b[0;32m      <a href='vscode-notebook-cell:/c%3A/Users/WDIMACULANGAN/Desktop/Activity/sentiment-analysis/src/SentimentApp/Training/training.ipynb#X64sZmlsZQ%3D%3D?line=0'>1</a>\u001b[0m \u001b[39m# Copy DF apply different preprocessing techniques onto different dataframes\u001b[39;00m\n\u001b[1;32m----> <a href='vscode-notebook-cell:/c%3A/Users/WDIMACULANGAN/Desktop/Activity/sentiment-analysis/src/SentimentApp/Training/training.ipynb#X64sZmlsZQ%3D%3D?line=1'>2</a>\u001b[0m preprocess_v1_tweets_df \u001b[39m=\u001b[39m tweets_df\u001b[39m.\u001b[39mcopy()\n\u001b[0;32m      <a href='vscode-notebook-cell:/c%3A/Users/WDIMACULANGAN/Desktop/Activity/sentiment-analysis/src/SentimentApp/Training/training.ipynb#X64sZmlsZQ%3D%3D?line=2'>3</a>\u001b[0m preprocess_v2_tweets_df \u001b[39m=\u001b[39m tweets_df\u001b[39m.\u001b[39mcopy()\n\u001b[0;32m      <a href='vscode-notebook-cell:/c%3A/Users/WDIMACULANGAN/Desktop/Activity/sentiment-analysis/src/SentimentApp/Training/training.ipynb#X64sZmlsZQ%3D%3D?line=3'>4</a>\u001b[0m preprocess_v3_tweets_df \u001b[39m=\u001b[39m tweets_df\u001b[39m.\u001b[39mcopy()\n",
      "\u001b[1;31mNameError\u001b[0m: name 'tweets_df' is not defined"
     ]
    }
   ],
   "source": [
    "# Copy DF apply different preprocessing techniques onto different dataframes\n",
    "preprocess_v1_tweets_df = tweets_df.copy()\n",
    "preprocess_v2_tweets_df = tweets_df.copy()\n",
    "preprocess_v3_tweets_df = tweets_df.copy()"
   ]
  },
  {
   "cell_type": "code",
   "execution_count": 11,
   "metadata": {},
   "outputs": [],
   "source": [
    "def clean_text(text):\n",
    "    \"\"\"\n",
    "    Removes @, #, and punctuation marks from the text.\n",
    "\n",
    "    Parameters:\n",
    "        text (str): tokenized tweet.\n",
    "    Returns:\n",
    "        str: The cleaned tweet text.\n",
    "    \"\"\"\n",
    "    # Convert text to lowercase\n",
    "    text = text.lower()\n",
    "\n",
    "    # Replace @, #, links and non-word characters with a space\n",
    "    # pattern = re.compile(r'(http|https)://[^\\s]+|[^\\w\\s@#]|[@#]|\\d+:\\d+|\\d+(?![a-zA-Z])|_')\n",
    "    pattern = re.compile(r'(http|https)://[^\\s]+|[^\\w\\s@#]|(@\\w+|#\\w+)|\\d+:\\d+|\\d+(?![a-zA-Z])|_')\n",
    "    cleaned_text = pattern.sub(' ', text)\n",
    "\n",
    "    \n",
    "\n",
    "    # Remove extra spaces\n",
    "    cleaned_text = ' '.join(cleaned_text.split())\n",
    "    return cleaned_text\n",
    "\n",
    "def preprocess_text_v1(text):\n",
    "    \"\"\"\n",
    "    Preprocesses the text.\n",
    "\n",
    "    Parameters:\n",
    "        text (str): tokenized tweet.\n",
    "    Returns:\n",
    "        str: The cleaned tweet text.\n",
    "    \"\"\"\n",
    "    # Clean text\n",
    "    cleaned_text = clean_text(text)\n",
    "    \n",
    "    # Tokenize the text\n",
    "    words = word_tokenize(cleaned_text)\n",
    "    filtered_words = []\n",
    "    \n",
    "    # Remove English Stop Words\n",
    "    stop_words = stopwords.words('English')\n",
    "    stop_words.remove(\"not\")\n",
    "    stop_words = set(stop_words)\n",
    "    \n",
    "    for word in words:\n",
    "        if word not in stop_words:\n",
    "            filtered_words.append(word)\n",
    "    # print(\"Filtered: \", filtered_words)\n",
    "    \n",
    "    # Lemmatize the text for nouns\n",
    "    lemmatizer = WordNetLemmatizer()\n",
    "    lemmatized_words = []\n",
    "    for word in filtered_words:\n",
    "        lemmatized_word = lemmatizer.lemmatize(word, pos='n')\n",
    "        lemmatized_words.append(lemmatized_word) \n",
    "    # print(\"Lemmatized words:\", lemmatized_words)\n",
    "\n",
    "    # Lemmatize for verbs\n",
    "    final_lemmatized_words = []\n",
    "    for word in lemmatized_words:\n",
    "        lemmatized_word = lemmatizer.lemmatize(word, pos='v')\n",
    "        final_lemmatized_words.append(lemmatized_word)\n",
    "    \n",
    "    processed_text = ' '.join(final_lemmatized_words)\n",
    "    return processed_text\n"
   ]
  },
  {
   "cell_type": "code",
   "execution_count": 33,
   "metadata": {},
   "outputs": [
    {
     "data": {
      "text/plain": [
       "'not happy'"
      ]
     },
     "execution_count": 33,
     "metadata": {},
     "output_type": "execute_result"
    }
   ],
   "source": [
    "preprocess_text_v1(\"I am not happy @marcos\")"
   ]
  },
  {
   "cell_type": "markdown",
   "metadata": {},
   "source": [
    "### Preprocess Using spaCy"
   ]
  },
  {
   "cell_type": "code",
   "execution_count": 24,
   "metadata": {},
   "outputs": [],
   "source": [
    "import spacy\n",
    "\n",
    "def preprocess_text(texts):\n",
    "    \"\"\"\n",
    "    Preprocess a list of texts using spaCy for sentiment analysis.\n",
    "    This optimized version uses spaCy's pipe method for batch processing.\n",
    "    \n",
    "    Parameters:\n",
    "        texts (list): List of original tweet texts.\n",
    "    \n",
    "    Returns:\n",
    "        list: List of preprocessed texts.\n",
    "    \"\"\"\n",
    "    # Load the spaCy model and disable parser, and named entity recognizer\n",
    "    nlp = spacy.load(\"en_core_web_sm\", disable=[\"parser\", \"ner\"])\n",
    "    preprocessed_texts = []\n",
    "    \n",
    "    # Use spaCy's pipe method for batch processing\n",
    "    for doc in nlp.pipe(texts, batch_size=50):\n",
    "        tokens = []\n",
    "        for token in doc:\n",
    "            if not (token.is_stop or token.is_punct):\n",
    "                tokens.append(token.lemma_.lower())\n",
    "        preprocessed_texts.append(' '.join(tokens))\n",
    "    \n",
    "    return preprocessed_texts\n"
   ]
  },
  {
   "cell_type": "code",
   "execution_count": 25,
   "metadata": {},
   "outputs": [
    {
     "data": {
      "text/plain": [
       "['happy']"
      ]
     },
     "execution_count": 25,
     "metadata": {},
     "output_type": "execute_result"
    }
   ],
   "source": [
    "preprocess_text([\"i am not happy\"])"
   ]
  },
  {
   "cell_type": "code",
   "execution_count": 20,
   "metadata": {},
   "outputs": [
    {
     "name": "stderr",
     "output_type": "stream",
     "text": [
      "C:\\Users\\WDIMACULANGAN\\AppData\\Local\\Temp\\ipykernel_18900\\3477288246.py:2: SettingWithCopyWarning: \n",
      "A value is trying to be set on a copy of a slice from a DataFrame.\n",
      "Try using .loc[row_indexer,col_indexer] = value instead\n",
      "\n",
      "See the caveats in the documentation: https://pandas.pydata.org/pandas-docs/stable/user_guide/indexing.html#returning-a-view-versus-a-copy\n",
      "  tweets_df['preprocessed_text'] = preprocess_text(tweets_df[\"tweet\"].tolist())\n"
     ]
    },
    {
     "data": {
      "text/html": [
       "<div>\n",
       "<style scoped>\n",
       "    .dataframe tbody tr th:only-of-type {\n",
       "        vertical-align: middle;\n",
       "    }\n",
       "\n",
       "    .dataframe tbody tr th {\n",
       "        vertical-align: top;\n",
       "    }\n",
       "\n",
       "    .dataframe thead th {\n",
       "        text-align: right;\n",
       "    }\n",
       "</style>\n",
       "<table border=\"1\" class=\"dataframe\">\n",
       "  <thead>\n",
       "    <tr style=\"text-align: right;\">\n",
       "      <th></th>\n",
       "      <th>id</th>\n",
       "      <th>sentiment</th>\n",
       "      <th>tweet</th>\n",
       "      <th>preprocessed_text</th>\n",
       "    </tr>\n",
       "  </thead>\n",
       "  <tbody>\n",
       "    <tr>\n",
       "      <th>0</th>\n",
       "      <td>260097528899452929</td>\n",
       "      <td>neutral</td>\n",
       "      <td>Won the match #getin . Plus, tomorrow is a ver...</td>\n",
       "      <td>won match getin plus tomorrow busy day awarene...</td>\n",
       "    </tr>\n",
       "    <tr>\n",
       "      <th>1</th>\n",
       "      <td>263791921753882624</td>\n",
       "      <td>neutral</td>\n",
       "      <td>Some areas of New England could see the first ...</td>\n",
       "      <td>area new england flake season tuesday</td>\n",
       "    </tr>\n",
       "    <tr>\n",
       "      <th>2</th>\n",
       "      <td>264194578381410304</td>\n",
       "      <td>negative</td>\n",
       "      <td>@francesco_con40 2nd worst QB. DEFINITELY Tony...</td>\n",
       "      <td>@francesco_con40 2nd bad qb definitely tony ro...</td>\n",
       "    </tr>\n",
       "    <tr>\n",
       "      <th>3</th>\n",
       "      <td>264041328420204544</td>\n",
       "      <td>neutral</td>\n",
       "      <td>#Thailand Washington - US President Barack Oba...</td>\n",
       "      <td>thailand washington president barack obama vow...</td>\n",
       "    </tr>\n",
       "    <tr>\n",
       "      <th>4</th>\n",
       "      <td>263816256640126976</td>\n",
       "      <td>neutral</td>\n",
       "      <td>Did y’all hear what Tony Romo dressed up as fo...</td>\n",
       "      <td>you hear tony romo dress halloween giants quat...</td>\n",
       "    </tr>\n",
       "  </tbody>\n",
       "</table>\n",
       "</div>"
      ],
      "text/plain": [
       "                   id sentiment  \\\n",
       "0  260097528899452929   neutral   \n",
       "1  263791921753882624   neutral   \n",
       "2  264194578381410304  negative   \n",
       "3  264041328420204544   neutral   \n",
       "4  263816256640126976   neutral   \n",
       "\n",
       "                                               tweet  \\\n",
       "0  Won the match #getin . Plus, tomorrow is a ver...   \n",
       "1  Some areas of New England could see the first ...   \n",
       "2  @francesco_con40 2nd worst QB. DEFINITELY Tony...   \n",
       "3  #Thailand Washington - US President Barack Oba...   \n",
       "4  Did y’all hear what Tony Romo dressed up as fo...   \n",
       "\n",
       "                                   preprocessed_text  \n",
       "0  won match getin plus tomorrow busy day awarene...  \n",
       "1              area new england flake season tuesday  \n",
       "2  @francesco_con40 2nd bad qb definitely tony ro...  \n",
       "3  thailand washington president barack obama vow...  \n",
       "4  you hear tony romo dress halloween giants quat...  "
      ]
     },
     "execution_count": 20,
     "metadata": {},
     "output_type": "execute_result"
    }
   ],
   "source": [
    "# # Apply the preprocessing function to the 'Tweet_Text' column of the DataFrame\n",
    "# tweets_df['preprocessed_text'] = preprocess_text(tweets_df[\"tweet\"].tolist())\n",
    "\n",
    "# # Show the first few rows to confirm preprocessing\n",
    "# tweets_df.head()\n"
   ]
  },
  {
   "cell_type": "code",
   "execution_count": null,
   "metadata": {},
   "outputs": [],
   "source": [
    "\n",
    "# # WordNetLemmatizer().lemmatize(\"us\", pos='n')\n",
    "# # text = \"@marcos the 2nd not 2 Done with the updates! Hurray for me!! Ahehe ^_^ =) Now I can go to sleep. Six loads pa ang bubunuin ko tomorrow...Aja! God bless everyone:)\"\n",
    "# text = \"hello world\"\n",
    "# temp = df_1.copy()\n",
    "# temp[\"preprocessed\"] = preprocess_text(temp[\"tweet\"].tolist())\n",
    "# temp"
   ]
  },
  {
   "cell_type": "code",
   "execution_count": 12,
   "metadata": {},
   "outputs": [
    {
     "name": "stderr",
     "output_type": "stream",
     "text": [
      "C:\\Users\\WDIMACULANGAN\\AppData\\Local\\Temp\\ipykernel_21624\\3355106610.py:1: SettingWithCopyWarning: \n",
      "A value is trying to be set on a copy of a slice from a DataFrame.\n",
      "Try using .loc[row_indexer,col_indexer] = value instead\n",
      "\n",
      "See the caveats in the documentation: https://pandas.pydata.org/pandas-docs/stable/user_guide/indexing.html#returning-a-view-versus-a-copy\n",
      "  tweets_df['preprocessed_text'] = tweets_df['tweet'].apply(preprocess_text_v1)\n"
     ]
    },
    {
     "data": {
      "text/html": [
       "<div>\n",
       "<style scoped>\n",
       "    .dataframe tbody tr th:only-of-type {\n",
       "        vertical-align: middle;\n",
       "    }\n",
       "\n",
       "    .dataframe tbody tr th {\n",
       "        vertical-align: top;\n",
       "    }\n",
       "\n",
       "    .dataframe thead th {\n",
       "        text-align: right;\n",
       "    }\n",
       "</style>\n",
       "<table border=\"1\" class=\"dataframe\">\n",
       "  <thead>\n",
       "    <tr style=\"text-align: right;\">\n",
       "      <th></th>\n",
       "      <th>id</th>\n",
       "      <th>sentiment</th>\n",
       "      <th>tweet</th>\n",
       "      <th>preprocessed_text</th>\n",
       "    </tr>\n",
       "  </thead>\n",
       "  <tbody>\n",
       "    <tr>\n",
       "      <th>0</th>\n",
       "      <td>260097528899452929</td>\n",
       "      <td>neutral</td>\n",
       "      <td>Won the match #getin . Plus, tomorrow is a ver...</td>\n",
       "      <td>match plus tomorrow busy day awareness day deb...</td>\n",
       "    </tr>\n",
       "    <tr>\n",
       "      <th>1</th>\n",
       "      <td>263791921753882624</td>\n",
       "      <td>neutral</td>\n",
       "      <td>Some areas of New England could see the first ...</td>\n",
       "      <td>area new england could see first flake season ...</td>\n",
       "    </tr>\n",
       "    <tr>\n",
       "      <th>2</th>\n",
       "      <td>264194578381410304</td>\n",
       "      <td>negative</td>\n",
       "      <td>@francesco_con40 2nd worst QB. DEFINITELY Tony...</td>\n",
       "      <td>2nd worst qb definitely tony romo man like sha...</td>\n",
       "    </tr>\n",
       "    <tr>\n",
       "      <th>3</th>\n",
       "      <td>264041328420204544</td>\n",
       "      <td>neutral</td>\n",
       "      <td>#Thailand Washington - US President Barack Oba...</td>\n",
       "      <td>washington u president barack obama vow wednes...</td>\n",
       "    </tr>\n",
       "    <tr>\n",
       "      <th>4</th>\n",
       "      <td>263816256640126976</td>\n",
       "      <td>neutral</td>\n",
       "      <td>Did y’all hear what Tony Romo dressed up as fo...</td>\n",
       "      <td>hear tony romo dress halloween giant quaterbac...</td>\n",
       "    </tr>\n",
       "    <tr>\n",
       "      <th>...</th>\n",
       "      <td>...</td>\n",
       "      <td>...</td>\n",
       "      <td>...</td>\n",
       "      <td>...</td>\n",
       "    </tr>\n",
       "    <tr>\n",
       "      <th>5995</th>\n",
       "      <td>639855845958885376</td>\n",
       "      <td>positive</td>\n",
       "      <td>@Racalto_SK ok good to know. Punting at MetLif...</td>\n",
       "      <td>ok good know punt metlife december task hope he</td>\n",
       "    </tr>\n",
       "    <tr>\n",
       "      <th>5996</th>\n",
       "      <td>639979760735662080</td>\n",
       "      <td>neutral</td>\n",
       "      <td>everyone who sat around me at metlife was so a...</td>\n",
       "      <td>everyone sit around metlife annoy didnt let ru...</td>\n",
       "    </tr>\n",
       "    <tr>\n",
       "      <th>5997</th>\n",
       "      <td>640196838260363269</td>\n",
       "      <td>neutral</td>\n",
       "      <td>what giants or niners fans would wanna go to t...</td>\n",
       "      <td>giant niner fan would wan na go sunday night g...</td>\n",
       "    </tr>\n",
       "    <tr>\n",
       "      <th>5998</th>\n",
       "      <td>640975710354567168</td>\n",
       "      <td>positive</td>\n",
       "      <td>Anybody want a ticket for tomorrow Colombia vs...</td>\n",
       "      <td>anybody want ticket tomorrow colombia v peru m...</td>\n",
       "    </tr>\n",
       "    <tr>\n",
       "      <th>5999</th>\n",
       "      <td>641034340068143104</td>\n",
       "      <td>neutral</td>\n",
       "      <td>Mendez told me he'd drive me to MetLife on Sun...</td>\n",
       "      <td>mendez tell drive metlife sunday reaction</td>\n",
       "    </tr>\n",
       "  </tbody>\n",
       "</table>\n",
       "<p>49593 rows × 4 columns</p>\n",
       "</div>"
      ],
      "text/plain": [
       "                      id sentiment  \\\n",
       "0     260097528899452929   neutral   \n",
       "1     263791921753882624   neutral   \n",
       "2     264194578381410304  negative   \n",
       "3     264041328420204544   neutral   \n",
       "4     263816256640126976   neutral   \n",
       "...                  ...       ...   \n",
       "5995  639855845958885376  positive   \n",
       "5996  639979760735662080   neutral   \n",
       "5997  640196838260363269   neutral   \n",
       "5998  640975710354567168  positive   \n",
       "5999  641034340068143104   neutral   \n",
       "\n",
       "                                                  tweet  \\\n",
       "0     Won the match #getin . Plus, tomorrow is a ver...   \n",
       "1     Some areas of New England could see the first ...   \n",
       "2     @francesco_con40 2nd worst QB. DEFINITELY Tony...   \n",
       "3     #Thailand Washington - US President Barack Oba...   \n",
       "4     Did y’all hear what Tony Romo dressed up as fo...   \n",
       "...                                                 ...   \n",
       "5995  @Racalto_SK ok good to know. Punting at MetLif...   \n",
       "5996  everyone who sat around me at metlife was so a...   \n",
       "5997  what giants or niners fans would wanna go to t...   \n",
       "5998  Anybody want a ticket for tomorrow Colombia vs...   \n",
       "5999  Mendez told me he'd drive me to MetLife on Sun...   \n",
       "\n",
       "                                      preprocessed_text  \n",
       "0     match plus tomorrow busy day awareness day deb...  \n",
       "1     area new england could see first flake season ...  \n",
       "2     2nd worst qb definitely tony romo man like sha...  \n",
       "3     washington u president barack obama vow wednes...  \n",
       "4     hear tony romo dress halloween giant quaterbac...  \n",
       "...                                                 ...  \n",
       "5995    ok good know punt metlife december task hope he  \n",
       "5996  everyone sit around metlife annoy didnt let ru...  \n",
       "5997  giant niner fan would wan na go sunday night g...  \n",
       "5998  anybody want ticket tomorrow colombia v peru m...  \n",
       "5999          mendez tell drive metlife sunday reaction  \n",
       "\n",
       "[49593 rows x 4 columns]"
      ]
     },
     "execution_count": 12,
     "metadata": {},
     "output_type": "execute_result"
    }
   ],
   "source": [
    "tweets_df['preprocessed_text'] = tweets_df['tweet'].apply(preprocess_text_v1)\n",
    "tweets_df\n",
    "# tweets_df.to_csv(\"sample.csv\")"
   ]
  },
  {
   "cell_type": "markdown",
   "metadata": {},
   "source": [
    "## Model Selection and Training"
   ]
  },
  {
   "cell_type": "code",
   "execution_count": 13,
   "metadata": {},
   "outputs": [
    {
     "name": "stdout",
     "output_type": "stream",
     "text": [
      "  (0, 231)\t0.7336334594045433\n",
      "  (0, 225)\t0.3996946308999094\n",
      "  (0, 895)\t0.1627684133105418\n",
      "  (0, 684)\t0.3983916073446227\n",
      "  (0, 556)\t0.3417846106799487\n",
      "  (1, 911)\t0.4236499102111126\n",
      "  (1, 774)\t0.44305208191221374\n",
      "  (1, 321)\t0.41009150417983975\n",
      "  (1, 777)\t0.3136262701074911\n",
      "  (1, 201)\t0.4736817337841309\n",
      "  (1, 610)\t0.3651229139188726\n",
      "  (2, 864)\t0.2734695023602609\n",
      "  (2, 430)\t0.3527426552954875\n",
      "  (2, 288)\t0.2900200176237172\n",
      "  (2, 80)\t0.32849618801971975\n",
      "  (2, 792)\t0.3358444220989191\n",
      "  (2, 517)\t0.19637452977512262\n",
      "  (2, 546)\t0.24908698738240925\n",
      "  (2, 897)\t0.33299644213523827\n",
      "  (2, 236)\t0.3507345875053891\n",
      "  (2, 975)\t0.34307865187952763\n",
      "  (2, 4)\t0.2091951061631062\n",
      "  (3, 935)\t0.45514605044160544\n",
      "  (3, 952)\t0.35021754738315175\n",
      "  (3, 630)\t0.4089368061556929\n",
      "  :\t:\n",
      "  (49589, 571)\t0.479272069461753\n",
      "  (49589, 60)\t0.4052859890147784\n",
      "  (49589, 37)\t0.4177904830486409\n",
      "  (49589, 808)\t0.31395588452095846\n",
      "  (49589, 511)\t0.34888429083682754\n",
      "  (49589, 618)\t0.25043401186959835\n",
      "  (49589, 288)\t0.3853400092087365\n",
      "  (49590, 571)\t0.43898955324743794\n",
      "  (49590, 977)\t0.2977688016060034\n",
      "  (49590, 602)\t0.2882144744198531\n",
      "  (49590, 943)\t0.36291148755223107\n",
      "  (49590, 300)\t0.33406439418624284\n",
      "  (49590, 349)\t0.2566155013514976\n",
      "  (49590, 360)\t0.19305513031701696\n",
      "  (49590, 618)\t0.22938519057049256\n",
      "  (49590, 853)\t0.23648461285716088\n",
      "  (49590, 355)\t0.424954380795597\n",
      "  (49591, 571)\t0.7040792087302634\n",
      "  (49591, 944)\t0.41877758802029746\n",
      "  (49591, 885)\t0.5011837035875144\n",
      "  (49591, 895)\t0.2787699676506975\n",
      "  (49592, 571)\t0.6128081917520272\n",
      "  (49592, 867)\t0.4611906776134525\n",
      "  (49592, 257)\t0.5502629804923607\n",
      "  (49592, 853)\t0.3301210858211254\n"
     ]
    }
   ],
   "source": [
    "vectorizer = TfidfVectorizer(max_features=1000)\n",
    "matrix = vectorizer.fit_transform(tweets_df['preprocessed_text'])\n",
    "# Save the vectorizer\n",
    "dump(vectorizer, 'models/tfidf_vectorizer_v2.joblib')\n",
    "print(matrix)"
   ]
  },
  {
   "cell_type": "code",
   "execution_count": 14,
   "metadata": {},
   "outputs": [],
   "source": [
    "features = matrix\n",
    "\n",
    "labels = tweets_df['sentiment']\n",
    "\n",
    "# X_train, X_test, y_train, y_test = train_test_split(features, labels, random_state=77, test_size=0.3, shuffle=True)\n",
    "\n",
    "# print(X_train)\n",
    "# print(y_train)"
   ]
  },
  {
   "cell_type": "code",
   "execution_count": null,
   "metadata": {},
   "outputs": [],
   "source": [
    "# lr_model = LogisticRegression()\n",
    "# lr_model.fit(X_train, y_train)\n",
    "\n",
    "# predictions = lr_model.predict(X_test)\n",
    "\n",
    "# print(classification_report(y_test, predictions))"
   ]
  },
  {
   "cell_type": "markdown",
   "metadata": {},
   "source": [
    "The performance is inadequate, therefore let's try to use a random under sampler."
   ]
  },
  {
   "cell_type": "code",
   "execution_count": 15,
   "metadata": {},
   "outputs": [
    {
     "data": {
      "text/plain": [
       "sentiment\n",
       "neutral     22240\n",
       "positive    19647\n",
       "negative     7706\n",
       "Name: count, dtype: int64"
      ]
     },
     "execution_count": 15,
     "metadata": {},
     "output_type": "execute_result"
    }
   ],
   "source": [
    "labels.value_counts()"
   ]
  },
  {
   "cell_type": "code",
   "execution_count": 16,
   "metadata": {},
   "outputs": [
    {
     "name": "stdout",
     "output_type": "stream",
     "text": [
      "sentiment\n",
      "negative    7706\n",
      "neutral     7706\n",
      "positive    7706\n",
      "Name: count, dtype: int64\n",
      "              precision    recall  f1-score   support\n",
      "\n",
      "    negative       0.62      0.63      0.63      2336\n",
      "     neutral       0.52      0.53      0.53      2304\n",
      "    positive       0.64      0.62      0.63      2296\n",
      "\n",
      "    accuracy                           0.59      6936\n",
      "   macro avg       0.59      0.59      0.59      6936\n",
      "weighted avg       0.59      0.59      0.59      6936\n",
      "\n"
     ]
    },
    {
     "name": "stderr",
     "output_type": "stream",
     "text": [
      "c:\\Users\\WDIMACULANGAN\\Desktop\\Activity\\sentiment-analysis\\src\\venv\\Lib\\site-packages\\sklearn\\linear_model\\_logistic.py:460: ConvergenceWarning: lbfgs failed to converge (status=1):\n",
      "STOP: TOTAL NO. of ITERATIONS REACHED LIMIT.\n",
      "\n",
      "Increase the number of iterations (max_iter) or scale the data as shown in:\n",
      "    https://scikit-learn.org/stable/modules/preprocessing.html\n",
      "Please also refer to the documentation for alternative solver options:\n",
      "    https://scikit-learn.org/stable/modules/linear_model.html#logistic-regression\n",
      "  n_iter_i = _check_optimize_result(\n"
     ]
    }
   ],
   "source": [
    "# Random Undersampler\n",
    "rus = RandomUnderSampler(random_state=0)\n",
    "\n",
    "X_res, y_res = rus.fit_resample(features, labels)\n",
    "\n",
    "print(y_res.value_counts())\n",
    "X_train, X_test, y_train, y_test = train_test_split(X_res, y_res, random_state=77, test_size=0.3, shuffle=True)\n",
    "\n",
    "lr_model = LogisticRegression()\n",
    "lr_model.fit(X_train, y_train)\n",
    "\n",
    "predictions = lr_model.predict(X_test)\n",
    "\n",
    "print(classification_report(y_test, predictions))"
   ]
  },
  {
   "cell_type": "markdown",
   "metadata": {},
   "source": [
    "Since the other metrics have improved after balancing the dataset, let us try using other models"
   ]
  },
  {
   "cell_type": "code",
   "execution_count": 17,
   "metadata": {},
   "outputs": [
    {
     "name": "stdout",
     "output_type": "stream",
     "text": [
      "sentiment\n",
      "positive    5410\n",
      "neutral     5402\n",
      "negative    5370\n",
      "Name: count, dtype: int64\n",
      "SVM               precision    recall  f1-score   support\n",
      "\n",
      "    negative       0.61      0.63      0.62      2336\n",
      "     neutral       0.52      0.56      0.54      2304\n",
      "    positive       0.66      0.59      0.62      2296\n",
      "\n",
      "    accuracy                           0.59      6936\n",
      "   macro avg       0.60      0.59      0.59      6936\n",
      "weighted avg       0.60      0.59      0.59      6936\n",
      "\n",
      "\n",
      "\n",
      "Decision Trees               precision    recall  f1-score   support\n",
      "\n",
      "    negative       0.51      0.51      0.51      2336\n",
      "     neutral       0.43      0.43      0.43      2304\n",
      "    positive       0.52      0.53      0.52      2296\n",
      "\n",
      "    accuracy                           0.49      6936\n",
      "   macro avg       0.49      0.49      0.49      6936\n",
      "weighted avg       0.49      0.49      0.49      6936\n",
      "\n",
      "\n",
      "\n",
      "Random Forest               precision    recall  f1-score   support\n",
      "\n",
      "    negative       0.58      0.63      0.61      2336\n",
      "     neutral       0.51      0.50      0.50      2304\n",
      "    positive       0.63      0.58      0.60      2296\n",
      "\n",
      "    accuracy                           0.57      6936\n",
      "   macro avg       0.57      0.57      0.57      6936\n",
      "weighted avg       0.57      0.57      0.57      6936\n",
      "\n",
      "\n",
      "\n",
      "Naive Bayes               precision    recall  f1-score   support\n",
      "\n",
      "    negative       0.61      0.63      0.62      2336\n",
      "     neutral       0.52      0.47      0.49      2304\n",
      "    positive       0.59      0.63      0.61      2296\n",
      "\n",
      "    accuracy                           0.58      6936\n",
      "   macro avg       0.57      0.58      0.58      6936\n",
      "weighted avg       0.58      0.58      0.58      6936\n",
      "\n",
      "\n",
      "\n"
     ]
    }
   ],
   "source": [
    "# Initialize Models\n",
    "\n",
    "svm = SVC(random_state=77, kernel='linear', probability=True)\n",
    "dt = DecisionTreeClassifier(random_state=77)\n",
    "rf = RandomForestClassifier(random_state=77)\n",
    "nb = MultinomialNB()\n",
    "models = {'SVM': svm, 'Decision Trees': dt,\"Random Forest\": rf, \"Naive Bayes\": nb}\n",
    "trained_models = {}\n",
    "\n",
    "print(y_train.value_counts())\n",
    "\n",
    "for name, model in models.items():\n",
    "    model.fit(X_train, y_train)\n",
    "    prediction = model.predict(X_test)\n",
    "    print(f\"{name}\", classification_report(y_test, prediction))\n",
    "    print('\\n')\n",
    "    # Save the model\n",
    "    dump(model, f\"{name}_model.joblib\")\n"
   ]
  },
  {
   "cell_type": "markdown",
   "metadata": {},
   "source": [
    "The following are the saved result\n",
    "```\n",
    "sentiment\n",
    "positive    2995\n",
    "negative    2981\n",
    "neutral     2909\n",
    "Name: count, dtype: int64\n",
    "SVM               precision    recall  f1-score   support\n",
    "\n",
    "    negative       0.59      0.64      0.61      1250\n",
    "     neutral       0.55      0.58      0.56      1322\n",
    "    positive       0.67      0.57      0.62      1236\n",
    "\n",
    "    accuracy                           0.60      3808\n",
    "   macro avg       0.60      0.60      0.60      3808\n",
    "weighted avg       0.60      0.60      0.60      3808\n",
    "\n",
    "\n",
    "\n",
    "Decision Trees               precision    recall  f1-score   support\n",
    "\n",
    "    negative       0.49      0.53      0.51      1250\n",
    "     neutral       0.50      0.46      0.48      1322\n",
    "    positive       0.55      0.54      0.54      1236\n",
    "\n",
    "    accuracy                           0.51      3808\n",
    "   macro avg       0.51      0.51      0.51      3808\n",
    "weighted avg       0.51      0.51      0.51      3808\n",
    "\n",
    "\n",
    "\n",
    "Random Forest               precision    recall  f1-score   support\n",
    "\n",
    "    negative       0.56      0.61      0.58      1250\n",
    "     neutral       0.54      0.56      0.55      1322\n",
    "    positive       0.66      0.58      0.62      1236\n",
    "\n",
    "    accuracy                           0.58      3808\n",
    "   macro avg       0.59      0.58      0.58      3808\n",
    "weighted avg       0.59      0.58      0.58      3808\n",
    "\n",
    "\n",
    "\n",
    "Naive Bayes               precision    recall  f1-score   support\n",
    "\n",
    "    negative       0.59      0.64      0.62      1250\n",
    "     neutral       0.55      0.51      0.53      1322\n",
    "    positive       0.60      0.59      0.60      1236\n",
    "\n",
    "    accuracy                           0.58      3808\n",
    "   macro avg       0.58      0.58      0.58      3808\n",
    "weighted avg       0.58      0.58      0.58      3808\n",
    "\n",
    "\n",
    "```"
   ]
  },
  {
   "cell_type": "markdown",
   "metadata": {},
   "source": [
    "### Using test and train datasets"
   ]
  },
  {
   "cell_type": "code",
   "execution_count": null,
   "metadata": {},
   "outputs": [],
   "source": []
  },
  {
   "cell_type": "markdown",
   "metadata": {},
   "source": [
    "## Hyperparameter Tuning"
   ]
  },
  {
   "cell_type": "code",
   "execution_count": null,
   "metadata": {},
   "outputs": [],
   "source": [
    "def preform_gridsearchcv(model_name, model, model_params, X_train, y_train):\n",
    "    grid_search_model = GridSearchCV(model, model_params, cv=5)\n",
    "    grid_search_model.fit(X_train, y_train)\n",
    "\n",
    "    # Get best parameters\n",
    "    best_params = grid_search_model.best_params_\n",
    "    best_estimator = grid_search_model.best_estimator_\n",
    "    print(f\"{model_name} Best Parameters:\")\n",
    "    print(best_params)\n",
    "    print(f\"{model_name} Best Estimators:\")\n",
    "    print(best_estimator)\n"
   ]
  },
  {
   "cell_type": "code",
   "execution_count": 18,
   "metadata": {},
   "outputs": [],
   "source": [
    "# Declare models again\n",
    "svm = SVC(random_state=77, probability=True)\n",
    "dt = DecisionTreeClassifier(random_state=77)\n",
    "rf = RandomForestClassifier(random_state=77)\n",
    "nb = MultinomialNB()"
   ]
  },
  {
   "cell_type": "code",
   "execution_count": null,
   "metadata": {},
   "outputs": [],
   "source": [
    "# # Naive Bayes Hyperparameter Tuning\n",
    "# naive_bayes_params = {'alpha': [0.1, 0.5, 1, 2]}\n",
    "# preform_gridsearchcv(\"Naive Bayes\", nb, naive_bayes_params, X_train, y_train)\n",
    "\n",
    "# # SVM\n",
    "# svm_params = {'C': [0.1, 1, 10], 'kernel': ['linear', 'rbf']}\n",
    "# preform_gridsearchcv(\"SVM\", svm, svm_params, X_train, y_train)\n",
    "\n",
    "# # Decision Trees\n",
    "# decision_tree_params = {'criterion': ['gini', 'entropy'], 'max_depth': [None, 10, 20, 30, 40, 50]}\n",
    "# preform_gridsearchcv(\"Decision Trees\", dt, decision_tree_params, X_train, y_train)\n",
    "\n",
    "# # Random Forest\n",
    "# random_forest_params = {'n_estimators': [10, 50, 100], 'max_depth': [None, 10, 20, 30]}\n",
    "# preform_gridsearchcv(\"Random Forest\", rf, random_forest_params, X_train, y_train)\n"
   ]
  },
  {
   "cell_type": "markdown",
   "metadata": {},
   "source": [
    "```\n",
    "Naive Bayes Best Parameters:\n",
    "{'alpha': 2}\n",
    "Naive Bayes Best Estimators:\n",
    "MultinomialNB(alpha=2)\n",
    "SVM Best Parameters:\n",
    "{'C': 1, 'kernel': 'rbf'}\n",
    "SVM Best Estimators:\n",
    "SVC(C=1, probability=True, random_state=77)\n",
    "Decision Trees Best Parameters:\n",
    "{'criterion': 'gini', 'max_depth': None}\n",
    "Decision Trees Best Estimators:\n",
    "DecisionTreeClassifier(random_state=77)\n",
    "Random Forest Best Parameters:\n",
    "{'max_depth': None, 'n_estimators': 100}\n",
    "Random Forest Best Estimators:\n",
    "RandomForestClassifier(random_state=77)\n",
    "```\n"
   ]
  },
  {
   "cell_type": "code",
   "execution_count": 19,
   "metadata": {},
   "outputs": [
    {
     "name": "stdout",
     "output_type": "stream",
     "text": [
      "sentiment\n",
      "positive    5410\n",
      "neutral     5402\n",
      "negative    5370\n",
      "Name: count, dtype: int64\n",
      "SVM               precision    recall  f1-score   support\n",
      "\n",
      "    negative       0.62      0.64      0.63      2336\n",
      "     neutral       0.51      0.55      0.53      2304\n",
      "    positive       0.66      0.59      0.62      2296\n",
      "\n",
      "    accuracy                           0.59      6936\n",
      "   macro avg       0.60      0.59      0.59      6936\n",
      "weighted avg       0.60      0.59      0.59      6936\n",
      "\n",
      "\n",
      "\n",
      "Decision Trees               precision    recall  f1-score   support\n",
      "\n",
      "    negative       0.51      0.51      0.51      2336\n",
      "     neutral       0.43      0.43      0.43      2304\n",
      "    positive       0.52      0.53      0.52      2296\n",
      "\n",
      "    accuracy                           0.49      6936\n",
      "   macro avg       0.49      0.49      0.49      6936\n",
      "weighted avg       0.49      0.49      0.49      6936\n",
      "\n",
      "\n",
      "\n",
      "Random Forest               precision    recall  f1-score   support\n",
      "\n",
      "    negative       0.58      0.63      0.61      2336\n",
      "     neutral       0.51      0.50      0.50      2304\n",
      "    positive       0.63      0.58      0.60      2296\n",
      "\n",
      "    accuracy                           0.57      6936\n",
      "   macro avg       0.57      0.57      0.57      6936\n",
      "weighted avg       0.57      0.57      0.57      6936\n",
      "\n",
      "\n",
      "\n",
      "Naive Bayes               precision    recall  f1-score   support\n",
      "\n",
      "    negative       0.61      0.63      0.62      2336\n",
      "     neutral       0.53      0.47      0.49      2304\n",
      "    positive       0.59      0.64      0.61      2296\n",
      "\n",
      "    accuracy                           0.58      6936\n",
      "   macro avg       0.58      0.58      0.58      6936\n",
      "weighted avg       0.58      0.58      0.58      6936\n",
      "\n",
      "\n",
      "\n"
     ]
    }
   ],
   "source": [
    "# Tuned\n",
    "svm = SVC(C=1, kernel= 'rbf', random_state=77, probability=True)\n",
    "dt = DecisionTreeClassifier(criterion= 'gini', max_depth= None, random_state=77)\n",
    "rf = RandomForestClassifier(max_depth= None, n_estimators=100, random_state=77)\n",
    "nb = MultinomialNB(alpha=2)\n",
    "\n",
    "models = {'SVM': svm, 'Decision Trees': dt,\"Random Forest\": rf, \"Naive Bayes\": nb}\n",
    "trained_models = {}\n",
    "\n",
    "print(y_train.value_counts())\n",
    "\n",
    "for name, model in models.items():\n",
    "    model.fit(X_train, y_train)\n",
    "    prediction = model.predict(X_test)\n",
    "    print(f\"{name}\", classification_report(y_test, prediction))\n",
    "    print('\\n')\n",
    "    # Save the model\n",
    "    dump(model, f\"{name}_model.joblib\")"
   ]
  },
  {
   "cell_type": "code",
   "execution_count": null,
   "metadata": {},
   "outputs": [],
   "source": [
    "user_input = \"Going to a bulls game next Thursday\"\n",
    "\n",
    "cleaned_input = preprocess_text(user_input)\n",
    "cleaned_input"
   ]
  },
  {
   "cell_type": "code",
   "execution_count": 32,
   "metadata": {},
   "outputs": [
    {
     "name": "stdout",
     "output_type": "stream",
     "text": [
      "love death\n",
      "Predicted Label: ['positive']\n",
      "Probability Estimates: [[0.2033029  0.03811256 0.75858454]]\n"
     ]
    }
   ],
   "source": [
    "loaded_model = load('SVM_model.joblib')\n",
    "vectorizer = load('models/tfidf_vectorizer_v2.joblib')\n",
    "user_input = \"I love death\"\n",
    "\n",
    "cleaned_input = preprocess_text_v1(user_input)\n",
    "print(cleaned_input)\n",
    "user_input_tfidf = vectorizer.transform([cleaned_input])\n",
    "\n",
    "predicted_label = loaded_model.predict(user_input_tfidf)\n",
    "\n",
    "probability_estimates = loaded_model.predict_proba(user_input_tfidf)\n",
    "\n",
    "print(\"Predicted Label:\", predicted_label)\n",
    "print(\"Probability Estimates:\", probability_estimates)\n"
   ]
  }
 ],
 "metadata": {
  "kernelspec": {
   "display_name": "py-acts",
   "language": "python",
   "name": "python3"
  },
  "language_info": {
   "codemirror_mode": {
    "name": "ipython",
    "version": 3
   },
   "file_extension": ".py",
   "mimetype": "text/x-python",
   "name": "python",
   "nbconvert_exporter": "python",
   "pygments_lexer": "ipython3",
   "version": "3.11.5"
  },
  "orig_nbformat": 4
 },
 "nbformat": 4,
 "nbformat_minor": 2
}
