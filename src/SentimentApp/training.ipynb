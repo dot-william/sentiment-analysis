{
 "cells": [
  {
   "cell_type": "markdown",
   "metadata": {},
   "source": [
    "# Sentiment Analysis"
   ]
  },
  {
   "cell_type": "code",
   "execution_count": 44,
   "metadata": {},
   "outputs": [],
   "source": [
    "import pandas as pd\n",
    "import seaborn as sns\n",
    "import matplotlib.pyplot as plt\n",
    "\n",
    "# Regex\n",
    "import re \n",
    "\n",
    "# NLTK\n",
    "import nltk #for text preprocessing\n",
    "from nltk.tokenize import word_tokenize\n",
    "from nltk.corpus import stopwords\n",
    "from nltk.stem import WordNetLemmatizer\n",
    "# nltk.download('stopwords')\n",
    "# nltk.download(\"wordnet\")\n",
    "# nltk.download('averaged_perceptron_tagger')\n",
    "# nltk.download('punkt')\n",
    "\n",
    "# Machine learning\n",
    "from sklearn.linear_model import LogisticRegression\n",
    "from sklearn.model_selection import train_test_split\n",
    "from sklearn.metrics import accuracy_score, balanced_accuracy_score, confusion_matrix, classification_report\n",
    "from sklearn.feature_extraction.text import TfidfVectorizer\n",
    "from sklearn.preprocessing import StandardScaler\n",
    "from sklearn.ensemble import RandomForestClassifier\n",
    "from sklearn.tree import DecisionTreeClassifier\n",
    "from sklearn.svm import SVC\n",
    "from sklearn.naive_bayes import  MultinomialNB\n",
    "from joblib import dump, load\n",
    "from imblearn.under_sampling import RandomUnderSampler\n",
    "from sklearn.model_selection import GridSearchCV\n"
   ]
  },
  {
   "cell_type": "markdown",
   "metadata": {},
   "source": [
    "## Data Preprocessing"
   ]
  },
  {
   "cell_type": "code",
   "execution_count": 45,
   "metadata": {},
   "outputs": [
    {
     "name": "stderr",
     "output_type": "stream",
     "text": [
      "C:\\Users\\WDIMACULANGAN\\AppData\\Local\\Temp\\ipykernel_14404\\1201518197.py:14: DeprecationWarning: invalid escape sequence '\\ '\n",
      "  df_1['tweet'] = df_1['tweet'].apply(lambda x: x.encode('utf-8').decode('unicode-escape'))\n",
      "C:\\Users\\WDIMACULANGAN\\AppData\\Local\\Temp\\ipykernel_14404\\1201518197.py:14: DeprecationWarning: invalid escape sequence '\\m'\n",
      "  df_1['tweet'] = df_1['tweet'].apply(lambda x: x.encode('utf-8').decode('unicode-escape'))\n",
      "C:\\Users\\WDIMACULANGAN\\AppData\\Local\\Temp\\ipykernel_14404\\1201518197.py:15: DeprecationWarning: invalid escape sequence '\\ '\n",
      "  df_2['tweet'] = df_2['tweet'].apply(lambda x: x.encode('utf-8').decode('unicode-escape'))\n",
      "C:\\Users\\WDIMACULANGAN\\AppData\\Local\\Temp\\ipykernel_14404\\1201518197.py:15: DeprecationWarning: invalid escape sequence '\\i'\n",
      "  df_2['tweet'] = df_2['tweet'].apply(lambda x: x.encode('utf-8').decode('unicode-escape'))\n",
      "C:\\Users\\WDIMACULANGAN\\AppData\\Local\\Temp\\ipykernel_14404\\1201518197.py:15: DeprecationWarning: invalid escape sequence '\\('\n",
      "  df_2['tweet'] = df_2['tweet'].apply(lambda x: x.encode('utf-8').decode('unicode-escape'))\n",
      "C:\\Users\\WDIMACULANGAN\\AppData\\Local\\Temp\\ipykernel_14404\\1201518197.py:15: DeprecationWarning: invalid escape sequence '\\m'\n",
      "  df_2['tweet'] = df_2['tweet'].apply(lambda x: x.encode('utf-8').decode('unicode-escape'))\n",
      "C:\\Users\\WDIMACULANGAN\\AppData\\Local\\Temp\\ipykernel_14404\\1201518197.py:15: DeprecationWarning: invalid escape sequence '\\o'\n",
      "  df_2['tweet'] = df_2['tweet'].apply(lambda x: x.encode('utf-8').decode('unicode-escape'))\n",
      "C:\\Users\\WDIMACULANGAN\\AppData\\Local\\Temp\\ipykernel_14404\\1201518197.py:16: DeprecationWarning: invalid escape sequence '\\m'\n",
      "  df_3['tweet'] = df_3['tweet'].apply(lambda x: x.encode('utf-8').decode('unicode-escape'))\n",
      "C:\\Users\\WDIMACULANGAN\\AppData\\Local\\Temp\\ipykernel_14404\\1201518197.py:16: DeprecationWarning: invalid escape sequence '\\_'\n",
      "  df_3['tweet'] = df_3['tweet'].apply(lambda x: x.encode('utf-8').decode('unicode-escape'))\n",
      "C:\\Users\\WDIMACULANGAN\\AppData\\Local\\Temp\\ipykernel_14404\\1201518197.py:16: DeprecationWarning: invalid escape sequence '\\/'\n",
      "  df_3['tweet'] = df_3['tweet'].apply(lambda x: x.encode('utf-8').decode('unicode-escape'))\n",
      "C:\\Users\\WDIMACULANGAN\\AppData\\Local\\Temp\\ipykernel_14404\\1201518197.py:16: DeprecationWarning: invalid escape sequence '\\ '\n",
      "  df_3['tweet'] = df_3['tweet'].apply(lambda x: x.encode('utf-8').decode('unicode-escape'))\n",
      "C:\\Users\\WDIMACULANGAN\\AppData\\Local\\Temp\\ipykernel_14404\\1201518197.py:17: DeprecationWarning: invalid escape sequence '\\('\n",
      "  df_4['tweet'] = df_4['tweet'].apply(lambda x: x.encode('utf-8').decode('unicode-escape'))\n",
      "C:\\Users\\WDIMACULANGAN\\AppData\\Local\\Temp\\ipykernel_14404\\1201518197.py:18: DeprecationWarning: invalid escape sequence '\\o'\n",
      "  df_5['tweet'] = df_5['tweet'].apply(lambda x: x.encode('utf-8').decode('unicode-escape'))\n",
      "C:\\Users\\WDIMACULANGAN\\AppData\\Local\\Temp\\ipykernel_14404\\1201518197.py:22: DeprecationWarning: invalid escape sequence '\\m'\n",
      "  df_10['tweet'] = df_10['tweet'].apply(lambda x: x.encode('utf-8').decode('unicode-escape').lower())\n"
     ]
    },
    {
     "data": {
      "text/html": [
       "<div>\n",
       "<style scoped>\n",
       "    .dataframe tbody tr th:only-of-type {\n",
       "        vertical-align: middle;\n",
       "    }\n",
       "\n",
       "    .dataframe tbody tr th {\n",
       "        vertical-align: top;\n",
       "    }\n",
       "\n",
       "    .dataframe thead th {\n",
       "        text-align: right;\n",
       "    }\n",
       "</style>\n",
       "<table border=\"1\" class=\"dataframe\">\n",
       "  <thead>\n",
       "    <tr style=\"text-align: right;\">\n",
       "      <th></th>\n",
       "      <th>id</th>\n",
       "      <th>sentiment</th>\n",
       "      <th>tweet</th>\n",
       "    </tr>\n",
       "  </thead>\n",
       "  <tbody>\n",
       "    <tr>\n",
       "      <th>0</th>\n",
       "      <td>260097528899452929</td>\n",
       "      <td>neutral</td>\n",
       "      <td>Won the match #getin . Plus, tomorrow is a ver...</td>\n",
       "    </tr>\n",
       "    <tr>\n",
       "      <th>1</th>\n",
       "      <td>263791921753882624</td>\n",
       "      <td>neutral</td>\n",
       "      <td>Some areas of New England could see the first ...</td>\n",
       "    </tr>\n",
       "    <tr>\n",
       "      <th>2</th>\n",
       "      <td>264194578381410304</td>\n",
       "      <td>negative</td>\n",
       "      <td>@francesco_con40 2nd worst QB. DEFINITELY Tony...</td>\n",
       "    </tr>\n",
       "    <tr>\n",
       "      <th>3</th>\n",
       "      <td>264041328420204544</td>\n",
       "      <td>neutral</td>\n",
       "      <td>#Thailand Washington - US President Barack Oba...</td>\n",
       "    </tr>\n",
       "    <tr>\n",
       "      <th>4</th>\n",
       "      <td>263816256640126976</td>\n",
       "      <td>neutral</td>\n",
       "      <td>Did y’all hear what Tony Romo dressed up as fo...</td>\n",
       "    </tr>\n",
       "    <tr>\n",
       "      <th>...</th>\n",
       "      <td>...</td>\n",
       "      <td>...</td>\n",
       "      <td>...</td>\n",
       "    </tr>\n",
       "    <tr>\n",
       "      <th>5863</th>\n",
       "      <td>639855845958885376</td>\n",
       "      <td>positive</td>\n",
       "      <td>@racalto_sk ok good to know. punting at metlif...</td>\n",
       "    </tr>\n",
       "    <tr>\n",
       "      <th>5864</th>\n",
       "      <td>639979760735662080</td>\n",
       "      <td>neutral</td>\n",
       "      <td>everyone who sat around me at metlife was so a...</td>\n",
       "    </tr>\n",
       "    <tr>\n",
       "      <th>5865</th>\n",
       "      <td>640196838260363269</td>\n",
       "      <td>neutral</td>\n",
       "      <td>what giants or niners fans would wanna go to t...</td>\n",
       "    </tr>\n",
       "    <tr>\n",
       "      <th>5866</th>\n",
       "      <td>640975710354567168</td>\n",
       "      <td>positive</td>\n",
       "      <td>anybody want a ticket for tomorrow colombia vs...</td>\n",
       "    </tr>\n",
       "    <tr>\n",
       "      <th>5867</th>\n",
       "      <td>641034340068143104</td>\n",
       "      <td>neutral</td>\n",
       "      <td>mendez told me he'd drive me to metlife on sun...</td>\n",
       "    </tr>\n",
       "  </tbody>\n",
       "</table>\n",
       "<p>27451 rows × 3 columns</p>\n",
       "</div>"
      ],
      "text/plain": [
       "                      id sentiment  \\\n",
       "0     260097528899452929   neutral   \n",
       "1     263791921753882624   neutral   \n",
       "2     264194578381410304  negative   \n",
       "3     264041328420204544   neutral   \n",
       "4     263816256640126976   neutral   \n",
       "...                  ...       ...   \n",
       "5863  639855845958885376  positive   \n",
       "5864  639979760735662080   neutral   \n",
       "5865  640196838260363269   neutral   \n",
       "5866  640975710354567168  positive   \n",
       "5867  641034340068143104   neutral   \n",
       "\n",
       "                                                  tweet  \n",
       "0     Won the match #getin . Plus, tomorrow is a ver...  \n",
       "1     Some areas of New England could see the first ...  \n",
       "2     @francesco_con40 2nd worst QB. DEFINITELY Tony...  \n",
       "3     #Thailand Washington - US President Barack Oba...  \n",
       "4     Did y’all hear what Tony Romo dressed up as fo...  \n",
       "...                                                 ...  \n",
       "5863  @racalto_sk ok good to know. punting at metlif...  \n",
       "5864  everyone who sat around me at metlife was so a...  \n",
       "5865  what giants or niners fans would wanna go to t...  \n",
       "5866  anybody want a ticket for tomorrow colombia vs...  \n",
       "5867  mendez told me he'd drive me to metlife on sun...  \n",
       "\n",
       "[27451 rows x 3 columns]"
      ]
     },
     "execution_count": 45,
     "metadata": {},
     "output_type": "execute_result"
    }
   ],
   "source": [
    "# Reading data and concatenating\n",
    "df_1 = pd.read_csv('datasets/twitter-2013dev-A.txt', delimiter='\\t', names=['id', 'sentiment', 'tweet']) \n",
    "df_2 = pd.read_csv('datasets/twitter-2013test-A.txt', delimiter='\\t', names=['id', 'sentiment', 'tweet']) \n",
    "df_3 = pd.read_csv('datasets/twitter-2013train-A.txt', delimiter='\\t', names=['id', 'sentiment', 'tweet']) \n",
    "df_4 = pd.read_csv('datasets/twitter-2014test-A.txt', delimiter='\\t', names=['id', 'sentiment', 'tweet']) \n",
    "df_5 = pd.read_csv('datasets/twitter-2015test-A.txt', delimiter='\\t', names=['id', 'sentiment', 'tweet']) \n",
    "df_6 = pd.read_csv('datasets/twitter-2015train-A.txt', delimiter='\\t', names=['id', 'sentiment', 'tweet']) \n",
    "df_7 = pd.read_csv('datasets/twitter-2016dev-A.txt', delimiter='\\t', names=['id', 'sentiment', 'tweet']) \n",
    "df_8 = pd.read_csv('datasets/twitter-2016devtest-A.txt', delimiter='\\t', names=['id', 'sentiment', 'tweet']) \n",
    "# df_9 = pd.read_csv('datasets/twitter-2016test-A.txt', delimiter='\\t', names=['id', 'sentiment', 'tweet']) \n",
    "df_10 = pd.read_csv('datasets/twitter-2016train-A.txt', delimiter='\\t', names=['id', 'sentiment', 'tweet']) \n",
    "\n",
    "# Decode unicode-escape characters and convert everything to lowercase\n",
    "df_1['tweet'] = df_1['tweet'].apply(lambda x: x.encode('utf-8').decode('unicode-escape'))\n",
    "df_2['tweet'] = df_2['tweet'].apply(lambda x: x.encode('utf-8').decode('unicode-escape'))\n",
    "df_3['tweet'] = df_3['tweet'].apply(lambda x: x.encode('utf-8').decode('unicode-escape'))\n",
    "df_4['tweet'] = df_4['tweet'].apply(lambda x: x.encode('utf-8').decode('unicode-escape'))\n",
    "df_5['tweet'] = df_5['tweet'].apply(lambda x: x.encode('utf-8').decode('unicode-escape'))\n",
    "df_6['tweet'] = df_6['tweet'].apply(lambda x: x.encode('utf-8').decode('unicode-escape'))\n",
    "df_7['tweet'] = df_7['tweet'].apply(lambda x: x.encode('utf-8').decode('unicode-escape'))\n",
    "# df_8['tweet'] = df_8['tweet'].apply(lambda x: x.encode('utf-8').decode('unicode_escape')) # UnicodeDecodeError: 'unicodeescape' codec can't decode byte 0x5c in position 139: \\ at end of string\n",
    "df_10['tweet'] = df_10['tweet'].apply(lambda x: x.encode('utf-8').decode('unicode-escape').lower())\n",
    "\n",
    "# Concatenate dataframes\n",
    "tweets_df = pd.concat([df_1, df_2, df_3, df_4, df_5, df_6, df_7, df_10],axis=0)\n",
    "tweets_df"
   ]
  },
  {
   "cell_type": "code",
   "execution_count": 46,
   "metadata": {},
   "outputs": [
    {
     "data": {
      "text/plain": [
       "array(['neutral', 'negative', 'positive'], dtype=object)"
      ]
     },
     "execution_count": 46,
     "metadata": {},
     "output_type": "execute_result"
    }
   ],
   "source": [
    "# Check if sentiment is correct unique in the dataframe\n",
    "tweets_df['sentiment'].unique()"
   ]
  },
  {
   "cell_type": "code",
   "execution_count": 47,
   "metadata": {},
   "outputs": [
    {
     "name": "stderr",
     "output_type": "stream",
     "text": [
      "c:\\Users\\WDIMACULANGAN\\Desktop\\Activity\\venv\\py-activity\\lib\\site-packages\\seaborn\\_oldcore.py:1498: FutureWarning: is_categorical_dtype is deprecated and will be removed in a future version. Use isinstance(dtype, CategoricalDtype) instead\n",
      "  if pd.api.types.is_categorical_dtype(vector):\n",
      "c:\\Users\\WDIMACULANGAN\\Desktop\\Activity\\venv\\py-activity\\lib\\site-packages\\seaborn\\_oldcore.py:1498: FutureWarning: is_categorical_dtype is deprecated and will be removed in a future version. Use isinstance(dtype, CategoricalDtype) instead\n",
      "  if pd.api.types.is_categorical_dtype(vector):\n",
      "c:\\Users\\WDIMACULANGAN\\Desktop\\Activity\\venv\\py-activity\\lib\\site-packages\\seaborn\\_oldcore.py:1119: FutureWarning: use_inf_as_na option is deprecated and will be removed in a future version. Convert inf values to NaN before operating instead.\n",
      "  with pd.option_context('mode.use_inf_as_na', True):\n"
     ]
    },
    {
     "data": {
      "text/plain": [
       "Text(0.5, 1.0, 'Sentiment Distribution')"
      ]
     },
     "execution_count": 47,
     "metadata": {},
     "output_type": "execute_result"
    },
    {
     "data": {
      "image/png": "[encoded data removed]",
      "text/plain": [
       "<Figure size 640x480 with 1 Axes>"
      ]
     },
     "metadata": {},
     "output_type": "display_data"
    }
   ],
   "source": [
    "# Plot number of sentiments to get an idea of the distribution\n",
    "plt.figure()\n",
    "sns.histplot(data=tweets_df, x=tweets_df['sentiment'])\n",
    "plt.title(\"Sentiment Distribution\")"
   ]
  },
  {
   "cell_type": "markdown",
   "metadata": {},
   "source": [
    "We can see from the data that there is an imbalance in the dataset."
   ]
  },
  {
   "cell_type": "markdown",
   "metadata": {},
   "source": [
    "Before anything else, let us preprocess the dataset. The following will be done to apply preprocessing on the data:\n",
    "1. Unicode escape sequence `\\u` will be decoded.\n",
    "2. Punctuations will be  removed.\n",
    "3. Links will be removed.\n",
    "4. `#` and `@` characters will also be removed from the texts, but the word following it will be retained.\n",
    "5. Numbers will be removed but numbers following letters (e.g. 2nd, 16th) will be retained\n",
    "\n",
    "After cleaning the text, preprocessing, the following steps will be done:\n",
    "1. Words will be tokenized.\n",
    "2. After tokenization, words will be lemmatized\n",
    "3. After lemmatization, stop"
   ]
  },
  {
   "cell_type": "code",
   "execution_count": 48,
   "metadata": {},
   "outputs": [],
   "source": [
    "def clean_text(text):\n",
    "    \"\"\"\n",
    "    Removes @, #, and punctuation marks from the text.\n",
    "\n",
    "    Parameters:\n",
    "        text (str): tokenized tweet.\n",
    "    Returns:\n",
    "        str: The cleaned tweet text.\n",
    "    \"\"\"\n",
    "    # Convert text to lowercase\n",
    "    text = text.lower()\n",
    "\n",
    "    # Replace @, #, links and non-word characters with a space\n",
    "    pattern = re.compile(r'(http|https)://[^\\s]+|[^\\w\\s@#]|[@#]|\\d+:\\d+|\\d+(?![a-zA-Z])|_')\n",
    "    cleaned_text = pattern.sub(' ', text)\n",
    "\n",
    "    \n",
    "\n",
    "    # Remove extra spaces\n",
    "    cleaned_text = ' '.join(cleaned_text.split())\n",
    "    return cleaned_text\n",
    "\n",
    "def preprocess_text(text):\n",
    "    \"\"\"\n",
    "    Preprocesses the text.\n",
    "\n",
    "    Parameters:\n",
    "        text (str): tokenized tweet.\n",
    "    Returns:\n",
    "        str: The cleaned tweet text.\n",
    "    \"\"\"\n",
    "    # Clean text\n",
    "    cleaned_text = clean_text(text)\n",
    "    \n",
    "    # Tokenize the text\n",
    "    words = word_tokenize(cleaned_text)\n",
    "    filtered_words = []\n",
    "    \n",
    "    # Remove English Stop Words\n",
    "    stop_words = stopwords.words('English')\n",
    "    stop_words.remove(\"not\")\n",
    "    stop_words = set(stop_words)\n",
    "    \n",
    "    for word in words:\n",
    "        if word not in stop_words:\n",
    "            filtered_words.append(word)\n",
    "    # print(\"Filtered: \", filtered_words)\n",
    "    \n",
    "    # Lemmatize the text for nouns\n",
    "    lemmatizer = WordNetLemmatizer()\n",
    "    lemmatized_words = []\n",
    "    for word in filtered_words:\n",
    "        lemmatized_word = lemmatizer.lemmatize(word, pos='n')\n",
    "        lemmatized_words.append(lemmatized_word) \n",
    "    # print(\"Lemmatized words:\", lemmatized_words)\n",
    "\n",
    "    # Lemmatize for verbs\n",
    "    final_lemmatized_words = []\n",
    "    for word in lemmatized_words:\n",
    "        lemmatized_word = lemmatizer.lemmatize(word, pos='v')\n",
    "        final_lemmatized_words.append(lemmatized_word)\n",
    "    \n",
    "    processed_text = ' '.join(final_lemmatized_words)\n",
    "    return processed_text\n"
   ]
  },
  {
   "cell_type": "code",
   "execution_count": 49,
   "metadata": {},
   "outputs": [
    {
     "name": "stdout",
     "output_type": "stream",
     "text": [
      "['i', 'my', 'myself', 'we', 'our', 'ours', 'ourselves', 'you', \"you're\", \"you've\", \"you'll\", \"you'd\", 'your', 'yours', 'yourself', 'yourselves', 'he', 'him', 'his', 'himself', 'she', \"she's\", 'her', 'hers', 'herself', 'it', \"it's\", 'its', 'itself', 'they', 'them', 'their', 'theirs', 'themselves', 'what', 'which', 'who', 'whom', 'this', 'that', \"that'll\", 'these', 'those', 'am', 'is', 'are', 'was', 'were', 'be', 'been', 'being', 'have', 'has', 'had', 'having', 'do', 'does', 'did', 'doing', 'a', 'an', 'the', 'and', 'but', 'if', 'or', 'because', 'as', 'until', 'while', 'of', 'at', 'by', 'for', 'with', 'about', 'against', 'between', 'into', 'through', 'during', 'before', 'after', 'above', 'below', 'to', 'from', 'up', 'down', 'in', 'out', 'on', 'off', 'over', 'under', 'again', 'further', 'then', 'once', 'here', 'there', 'when', 'where', 'why', 'how', 'all', 'any', 'both', 'each', 'few', 'more', 'most', 'other', 'some', 'such', 'no', 'nor', 'not', 'only', 'own', 'same', 'so', 'than', 'too', 'very', 's', 't', 'can', 'will', 'just', 'don', \"don't\", 'should', \"should've\", 'now', 'd', 'll', 'm', 'o', 're', 've', 'y', 'ain', 'aren', \"aren't\", 'couldn', \"couldn't\", 'didn', \"didn't\", 'doesn', \"doesn't\", 'hadn', \"hadn't\", 'hasn', \"hasn't\", 'haven', \"haven't\", 'isn', \"isn't\", 'ma', 'mightn', \"mightn't\", 'mustn', \"mustn't\", 'needn', \"needn't\", 'shan', \"shan't\", 'shouldn', \"shouldn't\", 'wasn', \"wasn't\", 'weren', \"weren't\", 'won', \"won't\", 'wouldn', \"wouldn't\"]\n"
     ]
    }
   ],
   "source": [
    "# stop_words = set(stopwords.words('English'))\n",
    "stop_list = stopwords.words('English')\n",
    "stop_list.remove(\"me\")\n",
    "print(stop_list)"
   ]
  },
  {
   "cell_type": "code",
   "execution_count": 50,
   "metadata": {},
   "outputs": [
    {
     "name": "stdout",
     "output_type": "stream",
     "text": [
      "{'about', 'on', 'hasn', 'm', 'up', 'very', 'while', 'be', \"haven't\", 'other', \"weren't\", 'yours', 'itself', 'themselves', 'why', 'how', \"wasn't\", \"it's\", 'nor', 'whom', 'over', 'after', 'should', 'through', 'its', 'of', 'not', 'there', 'been', 'few', \"should've\", 'further', 'ours', 'a', \"you'll\", 'ain', 'to', \"shouldn't\", 'doing', 'off', 'now', 'until', 'herself', 'did', 'once', 'won', 'an', 'as', 'with', 'hers', \"doesn't\", 'having', 'when', 'the', 'here', 'our', 'no', 'she', 'shouldn', 'didn', \"isn't\", 'yourself', 'is', 'if', 're', 'from', \"couldn't\", 'they', \"aren't\", 'or', 'you', 'himself', 'out', 'during', 'any', 'just', 'weren', 'at', 'ourselves', 'isn', \"shan't\", \"mightn't\", 'theirs', 'most', \"that'll\", 'them', 'same', 'will', \"hasn't\", 'because', \"she's\", 'aren', 'your', 'this', 'd', 'doesn', 'll', 'below', 'wasn', 'don', 'my', 'that', 'who', 'has', 'their', 'these', 'shan', 'each', 'him', 'both', 'before', \"you're\", 't', \"needn't\", 'does', 'those', 'her', 'only', 'he', 'again', 'wouldn', 'such', 'am', 'down', 'under', 'have', 'own', 's', \"you'd\", 'more', 'are', 'but', 've', 'yourselves', 'his', \"you've\", 'and', 'me', 'then', 'mustn', 'couldn', 'hadn', 'o', 'needn', 'do', 'being', 'it', 'in', 'between', 'had', \"wouldn't\", 'what', 'can', 'than', 'were', 'so', 'y', \"don't\", 'which', 'above', \"mustn't\", 'was', 'against', 'some', \"didn't\", 'haven', 'myself', \"hadn't\", 'mightn', 'i', 'ma', 'into', 'where', \"won't\", 'by', 'all', 'for', 'we', 'too'}\n"
     ]
    },
    {
     "data": {
      "text/plain": [
       "'2nd not do update hurray ahehe go sleep six load pa ang bubunuin ko tomorrow aja god bless everyone'"
      ]
     },
     "execution_count": 50,
     "metadata": {},
     "output_type": "execute_result"
    }
   ],
   "source": [
    "print(set(stopwords.words('English')))\n",
    "# WordNetLemmatizer().lemmatize(\"us\", pos='n')\n",
    "text = \"2nd not 2 Done with the updates! Hurray for me!! Ahehe^_^ Now I can go to sleep. Six loads pa ang bubunuin ko tomorrow...Aja! God bless everyone:)\"\n",
    "\n",
    "preprocess_text(text)"
   ]
  },
  {
   "cell_type": "code",
   "execution_count": 51,
   "metadata": {},
   "outputs": [],
   "source": [
    "tweets_df['cleaned_tokenized_text'] = tweets_df['tweet'].apply(preprocess_text)\n",
    "# tweets_df.to_csv(\"sample.csv\")"
   ]
  },
  {
   "cell_type": "markdown",
   "metadata": {},
   "source": [
    "## Model Selection and Training"
   ]
  },
  {
   "cell_type": "code",
   "execution_count": 52,
   "metadata": {},
   "outputs": [
    {
     "data": {
      "text/html": [
       "<div>\n",
       "<style scoped>\n",
       "    .dataframe tbody tr th:only-of-type {\n",
       "        vertical-align: middle;\n",
       "    }\n",
       "\n",
       "    .dataframe tbody tr th {\n",
       "        vertical-align: top;\n",
       "    }\n",
       "\n",
       "    .dataframe thead th {\n",
       "        text-align: right;\n",
       "    }\n",
       "</style>\n",
       "<table border=\"1\" class=\"dataframe\">\n",
       "  <thead>\n",
       "    <tr style=\"text-align: right;\">\n",
       "      <th></th>\n",
       "      <th>id</th>\n",
       "      <th>sentiment</th>\n",
       "      <th>tweet</th>\n",
       "      <th>cleaned_tokenized_text</th>\n",
       "    </tr>\n",
       "  </thead>\n",
       "  <tbody>\n",
       "    <tr>\n",
       "      <th>0</th>\n",
       "      <td>260097528899452929</td>\n",
       "      <td>neutral</td>\n",
       "      <td>Won the match #getin . Plus, tomorrow is a ver...</td>\n",
       "      <td>match getin plus tomorrow busy day awareness d...</td>\n",
       "    </tr>\n",
       "    <tr>\n",
       "      <th>1</th>\n",
       "      <td>263791921753882624</td>\n",
       "      <td>neutral</td>\n",
       "      <td>Some areas of New England could see the first ...</td>\n",
       "      <td>area new england could see first flake season ...</td>\n",
       "    </tr>\n",
       "    <tr>\n",
       "      <th>2</th>\n",
       "      <td>264194578381410304</td>\n",
       "      <td>negative</td>\n",
       "      <td>@francesco_con40 2nd worst QB. DEFINITELY Tony...</td>\n",
       "      <td>francesco con 2nd worst qb definitely tony rom...</td>\n",
       "    </tr>\n",
       "    <tr>\n",
       "      <th>3</th>\n",
       "      <td>264041328420204544</td>\n",
       "      <td>neutral</td>\n",
       "      <td>#Thailand Washington - US President Barack Oba...</td>\n",
       "      <td>thailand washington u president barack obama v...</td>\n",
       "    </tr>\n",
       "    <tr>\n",
       "      <th>4</th>\n",
       "      <td>263816256640126976</td>\n",
       "      <td>neutral</td>\n",
       "      <td>Did y’all hear what Tony Romo dressed up as fo...</td>\n",
       "      <td>hear tony romo dress halloween giant quaterbac...</td>\n",
       "    </tr>\n",
       "    <tr>\n",
       "      <th>...</th>\n",
       "      <td>...</td>\n",
       "      <td>...</td>\n",
       "      <td>...</td>\n",
       "      <td>...</td>\n",
       "    </tr>\n",
       "    <tr>\n",
       "      <th>5863</th>\n",
       "      <td>639855845958885376</td>\n",
       "      <td>positive</td>\n",
       "      <td>@racalto_sk ok good to know. punting at metlif...</td>\n",
       "      <td>racalto sk ok good know punt metlife december ...</td>\n",
       "    </tr>\n",
       "    <tr>\n",
       "      <th>5864</th>\n",
       "      <td>639979760735662080</td>\n",
       "      <td>neutral</td>\n",
       "      <td>everyone who sat around me at metlife was so a...</td>\n",
       "      <td>everyone sit around metlife annoy didnt let ru...</td>\n",
       "    </tr>\n",
       "    <tr>\n",
       "      <th>5865</th>\n",
       "      <td>640196838260363269</td>\n",
       "      <td>neutral</td>\n",
       "      <td>what giants or niners fans would wanna go to t...</td>\n",
       "      <td>giant niner fan would wan na go sunday night g...</td>\n",
       "    </tr>\n",
       "    <tr>\n",
       "      <th>5866</th>\n",
       "      <td>640975710354567168</td>\n",
       "      <td>positive</td>\n",
       "      <td>anybody want a ticket for tomorrow colombia vs...</td>\n",
       "      <td>anybody want ticket tomorrow colombia v peru m...</td>\n",
       "    </tr>\n",
       "    <tr>\n",
       "      <th>5867</th>\n",
       "      <td>641034340068143104</td>\n",
       "      <td>neutral</td>\n",
       "      <td>mendez told me he'd drive me to metlife on sun...</td>\n",
       "      <td>mendez tell drive metlife sunday reaction</td>\n",
       "    </tr>\n",
       "  </tbody>\n",
       "</table>\n",
       "<p>27451 rows × 4 columns</p>\n",
       "</div>"
      ],
      "text/plain": [
       "                      id sentiment  \\\n",
       "0     260097528899452929   neutral   \n",
       "1     263791921753882624   neutral   \n",
       "2     264194578381410304  negative   \n",
       "3     264041328420204544   neutral   \n",
       "4     263816256640126976   neutral   \n",
       "...                  ...       ...   \n",
       "5863  639855845958885376  positive   \n",
       "5864  639979760735662080   neutral   \n",
       "5865  640196838260363269   neutral   \n",
       "5866  640975710354567168  positive   \n",
       "5867  641034340068143104   neutral   \n",
       "\n",
       "                                                  tweet  \\\n",
       "0     Won the match #getin . Plus, tomorrow is a ver...   \n",
       "1     Some areas of New England could see the first ...   \n",
       "2     @francesco_con40 2nd worst QB. DEFINITELY Tony...   \n",
       "3     #Thailand Washington - US President Barack Oba...   \n",
       "4     Did y’all hear what Tony Romo dressed up as fo...   \n",
       "...                                                 ...   \n",
       "5863  @racalto_sk ok good to know. punting at metlif...   \n",
       "5864  everyone who sat around me at metlife was so a...   \n",
       "5865  what giants or niners fans would wanna go to t...   \n",
       "5866  anybody want a ticket for tomorrow colombia vs...   \n",
       "5867  mendez told me he'd drive me to metlife on sun...   \n",
       "\n",
       "                                 cleaned_tokenized_text  \n",
       "0     match getin plus tomorrow busy day awareness d...  \n",
       "1     area new england could see first flake season ...  \n",
       "2     francesco con 2nd worst qb definitely tony rom...  \n",
       "3     thailand washington u president barack obama v...  \n",
       "4     hear tony romo dress halloween giant quaterbac...  \n",
       "...                                                 ...  \n",
       "5863  racalto sk ok good know punt metlife december ...  \n",
       "5864  everyone sit around metlife annoy didnt let ru...  \n",
       "5865  giant niner fan would wan na go sunday night g...  \n",
       "5866  anybody want ticket tomorrow colombia v peru m...  \n",
       "5867          mendez tell drive metlife sunday reaction  \n",
       "\n",
       "[27451 rows x 4 columns]"
      ]
     },
     "execution_count": 52,
     "metadata": {},
     "output_type": "execute_result"
    }
   ],
   "source": [
    "tweets_df"
   ]
  },
  {
   "cell_type": "code",
   "execution_count": 53,
   "metadata": {},
   "outputs": [
    {
     "name": "stdout",
     "output_type": "stream",
     "text": [
      "  (0, 231)\t0.7022235374236776\n",
      "  (0, 225)\t0.36293270771046665\n",
      "  (0, 143)\t0.3683113918521068\n",
      "  (0, 906)\t0.14366142135801446\n",
      "  (0, 682)\t0.34826083701245103\n",
      "  (0, 548)\t0.31238511041800887\n",
      "  (1, 922)\t0.3164471755046449\n",
      "  (1, 779)\t0.32343884891538704\n",
      "  (1, 326)\t0.3127935195723125\n",
      "  (1, 781)\t0.23963876142931895\n",
      "  (1, 206)\t0.36026808167657925\n",
      "  (1, 276)\t0.46199633798870954\n",
      "  (1, 607)\t0.2741511991354224\n",
      "  (1, 60)\t0.47073281942554085\n",
      "  (2, 873)\t0.2570699105025815\n",
      "  (2, 430)\t0.34469622316832554\n",
      "  (2, 292)\t0.28426651972501354\n",
      "  (2, 80)\t0.3187447818759387\n",
      "  (2, 796)\t0.33265178524171063\n",
      "  (2, 509)\t0.19602552145023025\n",
      "  (2, 539)\t0.2626368887180149\n",
      "  (2, 752)\t0.361569362000011\n",
      "  (2, 237)\t0.344019456023526\n",
      "  (2, 980)\t0.348962403638129\n",
      "  (2, 4)\t0.2092271139825006\n",
      "  :\t:\n",
      "  (27447, 561)\t0.4514555700853396\n",
      "  (27447, 61)\t0.41751003692505007\n",
      "  (27447, 40)\t0.41791688280137346\n",
      "  (27447, 811)\t0.31664537120491304\n",
      "  (27447, 503)\t0.36088919264740715\n",
      "  (27447, 615)\t0.2514506639257998\n",
      "  (27447, 292)\t0.3917728672476277\n",
      "  (27448, 561)\t0.41457369259715565\n",
      "  (27448, 982)\t0.30957529418312546\n",
      "  (27448, 596)\t0.2927755474990641\n",
      "  (27448, 949)\t0.3700279372070085\n",
      "  (27448, 305)\t0.3418486178704058\n",
      "  (27448, 355)\t0.24804587108277132\n",
      "  (27448, 363)\t0.19377706546886067\n",
      "  (27448, 615)\t0.23090828235881466\n",
      "  (27448, 862)\t0.2441350222190623\n",
      "  (27448, 359)\t0.4252014444614447\n",
      "  (27449, 561)\t0.6693236101429628\n",
      "  (27449, 950)\t0.4394253816873389\n",
      "  (27449, 893)\t0.5296665090247555\n",
      "  (27449, 906)\t0.2799368286804293\n",
      "  (27450, 561)\t0.5826303292220577\n",
      "  (27450, 876)\t0.48401359968262286\n",
      "  (27450, 262)\t0.5554770353027493\n",
      "  (27450, 862)\t0.34310056549666973\n"
     ]
    }
   ],
   "source": [
    "vectorizer = TfidfVectorizer(max_features=1000)\n",
    "matrix = vectorizer.fit_transform(tweets_df['cleaned_tokenized_text'])\n",
    "# Save the vectorizer\n",
    "dump(vectorizer, 'tfidf_vectorizer.joblib')\n",
    "print(matrix)"
   ]
  },
  {
   "cell_type": "code",
   "execution_count": 54,
   "metadata": {},
   "outputs": [
    {
     "name": "stdout",
     "output_type": "stream",
     "text": [
      "  (0, 764)\t0.4624064537435919\n",
      "  (0, 838)\t0.38881501837036286\n",
      "  (0, 746)\t0.43565423383090146\n",
      "  (0, 893)\t0.37314472924752756\n",
      "  (0, 355)\t0.2821247618976834\n",
      "  (0, 769)\t0.2769843466085776\n",
      "  (0, 481)\t0.3179318885907616\n",
      "  (0, 363)\t0.22039999383175107\n",
      "  (1, 705)\t0.3335016242689916\n",
      "  (1, 147)\t0.3820889292238473\n",
      "  (1, 357)\t0.39718987681436685\n",
      "  (1, 387)\t0.37529674769359034\n",
      "  (1, 96)\t0.37885532148552525\n",
      "  (1, 224)\t0.3135456809289375\n",
      "  (1, 610)\t0.277458214831801\n",
      "  (1, 701)\t0.35405078742544577\n",
      "  (2, 542)\t0.464975979973873\n",
      "  (2, 953)\t0.34899912388972903\n",
      "  (2, 406)\t0.561080486693874\n",
      "  (2, 796)\t0.5892246065999818\n",
      "  (3, 45)\t0.3181533146533444\n",
      "  (3, 925)\t0.38347603844386896\n",
      "  (3, 538)\t0.27473060002061306\n",
      "  (3, 907)\t0.2894202481697938\n",
      "  (3, 461)\t0.4191930693670246\n",
      "  :\t:\n",
      "  (19210, 360)\t0.24925203458696946\n",
      "  (19210, 550)\t0.14117077651957488\n",
      "  (19210, 509)\t0.17891699766530503\n",
      "  (19211, 878)\t0.3865283380158787\n",
      "  (19211, 522)\t0.2715553716939509\n",
      "  (19211, 243)\t0.39600058596101395\n",
      "  (19211, 774)\t0.32120549785412933\n",
      "  (19211, 839)\t0.5546402768497309\n",
      "  (19211, 950)\t0.25842857078667625\n",
      "  (19211, 581)\t0.26373398582337904\n",
      "  (19211, 78)\t0.26999501828845085\n",
      "  (19212, 473)\t0.8587011179357035\n",
      "  (19212, 620)\t0.5124767214771546\n",
      "  (19213, 861)\t0.3977170893170534\n",
      "  (19213, 195)\t0.33153276767275003\n",
      "  (19213, 903)\t0.3609223404094819\n",
      "  (19213, 899)\t0.3268400508254009\n",
      "  (19213, 952)\t0.5738315896746549\n",
      "  (19213, 326)\t0.40686004090555167\n",
      "  (19214, 666)\t0.41650635332231556\n",
      "  (19214, 916)\t0.49435630554607507\n",
      "  (19214, 803)\t0.30676200953061555\n",
      "  (19214, 828)\t0.4243326654993729\n",
      "  (19214, 380)\t0.48820908302490423\n",
      "  (19214, 346)\t0.2638655918453567\n",
      "4950     neutral\n",
      "2092     neutral\n",
      "3131     neutral\n",
      "920      neutral\n",
      "824      neutral\n",
      "          ...   \n",
      "4308     neutral\n",
      "1929    negative\n",
      "4997    negative\n",
      "3598    positive\n",
      "178     positive\n",
      "Name: sentiment, Length: 19215, dtype: object\n"
     ]
    }
   ],
   "source": [
    "features = matrix\n",
    "\n",
    "labels = tweets_df['sentiment']\n",
    "\n",
    "X_train, X_test, y_train, y_test = train_test_split(features, labels, random_state=77, test_size=0.3, shuffle=True)\n",
    "\n",
    "print(X_train)\n",
    "print(y_train)"
   ]
  },
  {
   "cell_type": "code",
   "execution_count": 55,
   "metadata": {},
   "outputs": [
    {
     "name": "stderr",
     "output_type": "stream",
     "text": [
      "c:\\Users\\WDIMACULANGAN\\Desktop\\Activity\\venv\\py-activity\\lib\\site-packages\\sklearn\\linear_model\\_logistic.py:460: ConvergenceWarning: lbfgs failed to converge (status=1):\n",
      "STOP: TOTAL NO. of ITERATIONS REACHED LIMIT.\n",
      "\n",
      "Increase the number of iterations (max_iter) or scale the data as shown in:\n",
      "    https://scikit-learn.org/stable/modules/preprocessing.html\n",
      "Please also refer to the documentation for alternative solver options:\n",
      "    https://scikit-learn.org/stable/modules/linear_model.html#logistic-regression\n",
      "  n_iter_i = _check_optimize_result(\n"
     ]
    },
    {
     "name": "stdout",
     "output_type": "stream",
     "text": [
      "              precision    recall  f1-score   support\n",
      "\n",
      "    negative       0.59      0.27      0.37      1290\n",
      "     neutral       0.60      0.73      0.66      3527\n",
      "    positive       0.68      0.67      0.68      3419\n",
      "\n",
      "    accuracy                           0.63      8236\n",
      "   macro avg       0.62      0.56      0.57      8236\n",
      "weighted avg       0.63      0.63      0.62      8236\n",
      "\n"
     ]
    }
   ],
   "source": [
    "lr_model = LogisticRegression()\n",
    "lr_model.fit(X_train, y_train)\n",
    "\n",
    "predictions = lr_model.predict(X_test)\n",
    "\n",
    "print(classification_report(y_test, predictions))"
   ]
  },
  {
   "cell_type": "markdown",
   "metadata": {},
   "source": [
    "The performance is inadequate, therefore let's try to use a random under sampler."
   ]
  },
  {
   "cell_type": "code",
   "execution_count": 56,
   "metadata": {},
   "outputs": [
    {
     "data": {
      "text/plain": [
       "sentiment\n",
       "positive    11726\n",
       "neutral     11494\n",
       "negative     4231\n",
       "Name: count, dtype: int64"
      ]
     },
     "execution_count": 56,
     "metadata": {},
     "output_type": "execute_result"
    }
   ],
   "source": [
    "labels.value_counts()"
   ]
  },
  {
   "cell_type": "code",
   "execution_count": 57,
   "metadata": {},
   "outputs": [
    {
     "name": "stdout",
     "output_type": "stream",
     "text": [
      "sentiment\n",
      "negative    4231\n",
      "neutral     4231\n",
      "positive    4231\n",
      "Name: count, dtype: int64\n",
      "              precision    recall  f1-score   support\n",
      "\n",
      "    negative       0.61      0.65      0.63      1250\n",
      "     neutral       0.56      0.57      0.57      1322\n",
      "    positive       0.64      0.60      0.62      1236\n",
      "\n",
      "    accuracy                           0.60      3808\n",
      "   macro avg       0.61      0.60      0.61      3808\n",
      "weighted avg       0.61      0.60      0.60      3808\n",
      "\n"
     ]
    },
    {
     "name": "stderr",
     "output_type": "stream",
     "text": [
      "c:\\Users\\WDIMACULANGAN\\Desktop\\Activity\\venv\\py-activity\\lib\\site-packages\\sklearn\\linear_model\\_logistic.py:460: ConvergenceWarning: lbfgs failed to converge (status=1):\n",
      "STOP: TOTAL NO. of ITERATIONS REACHED LIMIT.\n",
      "\n",
      "Increase the number of iterations (max_iter) or scale the data as shown in:\n",
      "    https://scikit-learn.org/stable/modules/preprocessing.html\n",
      "Please also refer to the documentation for alternative solver options:\n",
      "    https://scikit-learn.org/stable/modules/linear_model.html#logistic-regression\n",
      "  n_iter_i = _check_optimize_result(\n"
     ]
    }
   ],
   "source": [
    "# Random Undersampler\n",
    "rus = RandomUnderSampler(random_state=0)\n",
    "\n",
    "X_res, y_res = rus.fit_resample(features, labels)\n",
    "\n",
    "print(y_res.value_counts())\n",
    "X_train, X_test, y_train, y_test = train_test_split(X_res, y_res, random_state=77, test_size=0.3, shuffle=True)\n",
    "\n",
    "lr_model = LogisticRegression()\n",
    "lr_model.fit(X_train, y_train)\n",
    "\n",
    "predictions = lr_model.predict(X_test)\n",
    "\n",
    "print(classification_report(y_test, predictions))"
   ]
  },
  {
   "cell_type": "markdown",
   "metadata": {},
   "source": [
    "Since the other metrics have improved after balancing the dataset, let us try using other models"
   ]
  },
  {
   "cell_type": "code",
   "execution_count": 58,
   "metadata": {},
   "outputs": [],
   "source": [
    "# # Initialize Models\n",
    "\n",
    "# svm = SVC(random_state=77, kernel='linear', probability=True)\n",
    "# dt = DecisionTreeClassifier(random_state=77)\n",
    "# rf = RandomForestClassifier(random_state=77)\n",
    "# nb = MultinomialNB()\n",
    "# models = {'SVM': svm, 'Decision Trees': dt,\"Random Forest\": rf, \"Naive Bayes\": nb}\n",
    "# trained_models = {}\n",
    "\n",
    "# print(y_train.value_counts())\n",
    "\n",
    "# for name, model in models.items():\n",
    "#     model.fit(X_train, y_train)\n",
    "#     prediction = model.predict(X_test)\n",
    "#     print(f\"{name}\", classification_report(y_test, prediction))\n",
    "#     print('\\n')\n",
    "#     # Save the model\n",
    "#     dump(model, f\"{name}_model.joblib\")\n"
   ]
  },
  {
   "cell_type": "markdown",
   "metadata": {},
   "source": [
    "The following are the saved result\n",
    "```\n",
    "sentiment\n",
    "positive    2995\n",
    "negative    2981\n",
    "neutral     2909\n",
    "Name: count, dtype: int64\n",
    "SVM               precision    recall  f1-score   support\n",
    "\n",
    "    negative       0.59      0.64      0.61      1250\n",
    "     neutral       0.55      0.58      0.56      1322\n",
    "    positive       0.67      0.57      0.62      1236\n",
    "\n",
    "    accuracy                           0.60      3808\n",
    "   macro avg       0.60      0.60      0.60      3808\n",
    "weighted avg       0.60      0.60      0.60      3808\n",
    "\n",
    "\n",
    "\n",
    "Decision Trees               precision    recall  f1-score   support\n",
    "\n",
    "    negative       0.49      0.53      0.51      1250\n",
    "     neutral       0.50      0.46      0.48      1322\n",
    "    positive       0.55      0.54      0.54      1236\n",
    "\n",
    "    accuracy                           0.51      3808\n",
    "   macro avg       0.51      0.51      0.51      3808\n",
    "weighted avg       0.51      0.51      0.51      3808\n",
    "\n",
    "\n",
    "\n",
    "Random Forest               precision    recall  f1-score   support\n",
    "\n",
    "    negative       0.56      0.61      0.58      1250\n",
    "     neutral       0.54      0.56      0.55      1322\n",
    "    positive       0.66      0.58      0.62      1236\n",
    "\n",
    "    accuracy                           0.58      3808\n",
    "   macro avg       0.59      0.58      0.58      3808\n",
    "weighted avg       0.59      0.58      0.58      3808\n",
    "\n",
    "\n",
    "\n",
    "Naive Bayes               precision    recall  f1-score   support\n",
    "\n",
    "    negative       0.59      0.64      0.62      1250\n",
    "     neutral       0.55      0.51      0.53      1322\n",
    "    positive       0.60      0.59      0.60      1236\n",
    "\n",
    "    accuracy                           0.58      3808\n",
    "   macro avg       0.58      0.58      0.58      3808\n",
    "weighted avg       0.58      0.58      0.58      3808\n",
    "\n",
    "\n",
    "```"
   ]
  },
  {
   "cell_type": "code",
   "execution_count": null,
   "metadata": {},
   "outputs": [],
   "source": []
  },
  {
   "cell_type": "markdown",
   "metadata": {},
   "source": [
    "## Hyperparameter Tuning"
   ]
  },
  {
   "cell_type": "code",
   "execution_count": 59,
   "metadata": {},
   "outputs": [],
   "source": [
    "def preform_gridsearchcv(model_name, model, model_params, X_train, y_train):\n",
    "    grid_search_model = GridSearchCV(model, model_params, cv=5)\n",
    "    grid_search_model.fit(X_train, y_train)\n",
    "\n",
    "    # Get best parameters\n",
    "    best_params = grid_search_model.best_params_\n",
    "    best_estimator = grid_search_model.best_estimator_\n",
    "    print(f\"{model_name} Best Parameters:\")\n",
    "    print(best_params)\n",
    "    print(f\"{model_name} Best Estimators:\")\n",
    "    print(best_estimator)\n"
   ]
  },
  {
   "cell_type": "code",
   "execution_count": 60,
   "metadata": {},
   "outputs": [],
   "source": [
    "# Declare models again\n",
    "svm = SVC(random_state=77, probability=True)\n",
    "dt = DecisionTreeClassifier(random_state=77)\n",
    "rf = RandomForestClassifier(random_state=77)\n",
    "nb = MultinomialNB()"
   ]
  },
  {
   "cell_type": "code",
   "execution_count": 61,
   "metadata": {},
   "outputs": [],
   "source": [
    "# # Naive Bayes Hyperparameter Tuning\n",
    "# naive_bayes_params = {'alpha': [0.1, 0.5, 1, 2]}\n",
    "# preform_gridsearchcv(\"Naive Bayes\", nb, naive_bayes_params, X_train, y_train)\n",
    "\n",
    "# # SVM\n",
    "# svm_params = {'C': [0.1, 1, 10], 'kernel': ['linear', 'rbf']}\n",
    "# preform_gridsearchcv(\"SVM\", svm, svm_params, X_train, y_train)\n",
    "\n",
    "# # Decision Trees\n",
    "# decision_tree_params = {'criterion': ['gini', 'entropy'], 'max_depth': [None, 10, 20, 30, 40, 50]}\n",
    "# preform_gridsearchcv(\"Decision Trees\", dt, decision_tree_params, X_train, y_train)\n",
    "\n",
    "# # Random Forest\n",
    "# random_forest_params = {'n_estimators': [10, 50, 100], 'max_depth': [None, 10, 20, 30]}\n",
    "# preform_gridsearchcv(\"Random Forest\", rf, random_forest_params, X_train, y_train)\n"
   ]
  },
  {
   "cell_type": "markdown",
   "metadata": {},
   "source": [
    "```\n",
    "Naive Bayes Best Parameters:\n",
    "{'alpha': 2}\n",
    "Naive Bayes Best Estimators:\n",
    "MultinomialNB(alpha=2)\n",
    "SVM Best Parameters:\n",
    "{'C': 1, 'kernel': 'rbf'}\n",
    "SVM Best Estimators:\n",
    "SVC(C=1, probability=True, random_state=77)\n",
    "Decision Trees Best Parameters:\n",
    "{'criterion': 'gini', 'max_depth': None}\n",
    "Decision Trees Best Estimators:\n",
    "DecisionTreeClassifier(random_state=77)\n",
    "Random Forest Best Parameters:\n",
    "{'max_depth': None, 'n_estimators': 100}\n",
    "Random Forest Best Estimators:\n",
    "RandomForestClassifier(random_state=77)\n",
    "```\n"
   ]
  },
  {
   "cell_type": "code",
   "execution_count": 62,
   "metadata": {},
   "outputs": [
    {
     "name": "stdout",
     "output_type": "stream",
     "text": [
      "sentiment\n",
      "positive    2995\n",
      "negative    2981\n",
      "neutral     2909\n",
      "Name: count, dtype: int64\n",
      "SVM               precision    recall  f1-score   support\n",
      "\n",
      "    negative       0.61      0.65      0.63      1250\n",
      "     neutral       0.56      0.60      0.58      1322\n",
      "    positive       0.67      0.57      0.61      1236\n",
      "\n",
      "    accuracy                           0.61      3808\n",
      "   macro avg       0.61      0.61      0.61      3808\n",
      "weighted avg       0.61      0.61      0.61      3808\n",
      "\n",
      "\n",
      "\n",
      "Decision Trees               precision    recall  f1-score   support\n",
      "\n",
      "    negative       0.50      0.53      0.51      1250\n",
      "     neutral       0.49      0.46      0.47      1322\n",
      "    positive       0.55      0.55      0.55      1236\n",
      "\n",
      "    accuracy                           0.51      3808\n",
      "   macro avg       0.51      0.51      0.51      3808\n",
      "weighted avg       0.51      0.51      0.51      3808\n",
      "\n",
      "\n",
      "\n",
      "Random Forest               precision    recall  f1-score   support\n",
      "\n",
      "    negative       0.57      0.63      0.60      1250\n",
      "     neutral       0.55      0.58      0.57      1322\n",
      "    positive       0.67      0.57      0.62      1236\n",
      "\n",
      "    accuracy                           0.59      3808\n",
      "   macro avg       0.60      0.59      0.59      3808\n",
      "weighted avg       0.60      0.59      0.59      3808\n",
      "\n",
      "\n",
      "\n",
      "Naive Bayes               precision    recall  f1-score   support\n",
      "\n",
      "    negative       0.59      0.66      0.62      1250\n",
      "     neutral       0.56      0.50      0.53      1322\n",
      "    positive       0.61      0.60      0.60      1236\n",
      "\n",
      "    accuracy                           0.59      3808\n",
      "   macro avg       0.59      0.59      0.59      3808\n",
      "weighted avg       0.59      0.59      0.58      3808\n",
      "\n",
      "\n",
      "\n"
     ]
    }
   ],
   "source": [
    "# Tuned\n",
    "svm = SVC(C=1, kernel= 'rbf', random_state=77, probability=True)\n",
    "dt = DecisionTreeClassifier(criterion= 'gini', max_depth= None, random_state=77)\n",
    "rf = RandomForestClassifier(max_depth= None, n_estimators=100, random_state=77)\n",
    "nb = MultinomialNB(alpha=2)\n",
    "\n",
    "models = {'SVM': svm, 'Decision Trees': dt,\"Random Forest\": rf, \"Naive Bayes\": nb}\n",
    "trained_models = {}\n",
    "\n",
    "print(y_train.value_counts())\n",
    "\n",
    "for name, model in models.items():\n",
    "    model.fit(X_train, y_train)\n",
    "    prediction = model.predict(X_test)\n",
    "    print(f\"{name}\", classification_report(y_test, prediction))\n",
    "    print('\\n')\n",
    "    # Save the model\n",
    "    dump(model, f\"{name}_model.joblib\")"
   ]
  },
  {
   "cell_type": "code",
   "execution_count": 63,
   "metadata": {},
   "outputs": [
    {
     "data": {
      "text/plain": [
       "'go bull game next thursday'"
      ]
     },
     "execution_count": 63,
     "metadata": {},
     "output_type": "execute_result"
    }
   ],
   "source": [
    "user_input = \"Going to a bulls game next Thursday\"\n",
    "\n",
    "cleaned_input = preprocess_text(user_input)\n",
    "cleaned_input"
   ]
  },
  {
   "cell_type": "code",
   "execution_count": 67,
   "metadata": {},
   "outputs": [
    {
     "name": "stdout",
     "output_type": "stream",
     "text": [
      "Predicted Label: ['positive']\n",
      "Probability Estimates: [[0.2777904  0.01337028 0.70883932]]\n"
     ]
    }
   ],
   "source": [
    "loaded_model = load('SVM_model.joblib')\n",
    "vectorizer = load('tfidf_vectorizer.joblib')\n",
    "user_input = \"I am not happy\"\n",
    "\n",
    "cleaned_input = preprocess_text(user_input)\n",
    "user_input_tfidf = vectorizer.transform([cleaned_input])\n",
    "\n",
    "predicted_label = loaded_model.predict(user_input_tfidf)\n",
    "\n",
    "probability_estimates = loaded_model.predict_proba(user_input_tfidf)\n",
    "\n",
    "print(\"Predicted Label:\", predicted_label)\n",
    "print(\"Probability Estimates:\", probability_estimates)\n"
   ]
  }
 ],
 "metadata": {
  "kernelspec": {
   "display_name": "py-acts",
   "language": "python",
   "name": "python3"
  },
  "language_info": {
   "codemirror_mode": {
    "name": "ipython",
    "version": 3
   },
   "file_extension": ".py",
   "mimetype": "text/x-python",
   "name": "python",
   "nbconvert_exporter": "python",
   "pygments_lexer": "ipython3",
   "version": "3.9.13"
  },
  "orig_nbformat": 4
 },
 "nbformat": 4,
 "nbformat_minor": 2
}
